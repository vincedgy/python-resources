{
 "cells": [
  {
   "cell_type": "markdown",
   "metadata": {},
   "source": [
    "# Create a report with Python from a postgresql database\n",
    "\n",
    "We'll use pandas with psycopg2 to connect to a postgresql database and produce a csv report based on a simple SQL querypsycopg2"
   ]
  },
  {
   "cell_type": "code",
   "execution_count": 7,
   "metadata": {
    "tags": [
     "outputPrepend",
     "outputPrepend"
    ]
   },
   "outputs": [
    {
     "output_type": "stream",
     "name": "stdout",
     "text": "Requirement already satisfied: psycopg2-binary in /Users/vdagoury/.pyenv/versions/3.8.2/envs/default/lib/python3.8/site-packages (2.8.5)\nRequirement already satisfied: configparser in /Users/vdagoury/.pyenv/versions/3.8.2/envs/default/lib/python3.8/site-packages (5.0.0)\nCollecting pandas\n  Downloading pandas-1.0.3-cp38-cp38-macosx_10_9_x86_64.whl (10.2 MB)\n\u001b[K     |████████████████████████████████| 10.2 MB 2.9 MB/s \n\u001b[?25hCollecting numpy\n  Downloading numpy-1.18.2-cp38-cp38-macosx_10_9_x86_64.whl (15.2 MB)\n\u001b[K     |████████████████████████████████| 15.2 MB 11.2 MB/s \n\u001b[?25hRequirement already satisfied: python-dateutil>=2.6.1 in /Users/vdagoury/.pyenv/versions/3.8.2/envs/default/lib/python3.8/site-packages (from pandas) (2.8.1)\nCollecting pytz>=2017.2\n  Downloading pytz-2019.3-py2.py3-none-any.whl (509 kB)\n\u001b[K     |████████████████████████████████| 509 kB 17.8 MB/s \n\u001b[?25hRequirement already satisfied: six>=1.5 in /Users/vdagoury/.pyenv/versions/3.8.2/envs/default/lib/python3.8/site-packages (from python-dateutil>=2.6.1->pandas) (1.14.0)\nInstalling collected packages: numpy, pytz, pandas\nSuccessfully installed numpy-1.18.2 pandas-1.0.3 pytz-2019.3\n"
    }
   ],
   "source": [
    "# Install the psycopg2 pip package in the current Jupyter kernel\n",
    "import sys\n",
    "!{sys.executable} -m pip install psycopg2-binary configparser pandas numpy"
   ]
  },
  {
   "cell_type": "markdown",
   "metadata": {},
   "source": [
    "## Adding libraries to the script"
   ]
  },
  {
   "cell_type": "code",
   "execution_count": 9,
   "metadata": {},
   "outputs": [
    {
     "output_type": "execute_result",
     "data": {
      "text/plain": "'2.8.5 (dt dec pq3 ext lo64)'"
     },
     "metadata": {},
     "execution_count": 9
    }
   ],
   "source": [
    "import psycopg2\n",
    "import sys, os\n",
    "import numpy as np\n",
    "import pandas as pd\n",
    "import pandas.io.sql as psql\n",
    "\n",
    "psycopg2.__version__"
   ]
  },
  {
   "cell_type": "markdown",
   "metadata": {},
   "source": [
    "## Connect to the database and create a cursor\n",
    "\n",
    "We use `config.py` script which read `database.ini` to load a configuration object compatible with psycopg2"
   ]
  },
  {
   "cell_type": "code",
   "execution_count": 10,
   "metadata": {},
   "outputs": [
    {
     "output_type": "stream",
     "name": "stdout",
     "text": "connected !\n"
    }
   ],
   "source": [
    "# Import the 'config' funtion from the config.py file\n",
    "from config import config\n",
    "\n",
    "# Establish a connection to the database by creating a cursor object\n",
    "\n",
    "# Obtain the configuration parameters\n",
    "params = config()\n",
    "\n",
    "# Connect to the PostgreSQL database\n",
    "conn = psycopg2.connect(**params)\n",
    "\n",
    "# Create a cursor object\n",
    "cursor = conn.cursor()\n",
    "if cursor:\n",
    "    print('connected !')"
   ]
  },
  {
   "cell_type": "markdown",
   "metadata": {},
   "source": [
    "## Read data with SQL\n",
    "\n",
    "We create a function `load_users` that runs a simple sql query and return data from this query.\n",
    "\n",
    "psycopg2 lib is used in conjonction with panda's `read_sql` function by using the connection `conn` we created earlier."
   ]
  },
  {
   "cell_type": "code",
   "execution_count": 11,
   "metadata": {},
   "outputs": [],
   "source": [
    "# load_data : function that reads data from the database and send pandas data back\n",
    "def load_users(database = conn):\n",
    "    return pd.read_sql(\"SELECT * FROM sch_services.ccuser limit 5;\", database)"
   ]
  },
  {
   "cell_type": "markdown",
   "metadata": {},
   "source": [
    "Now that the function is available we can use it in our script"
   ]
  },
  {
   "cell_type": "markdown",
   "metadata": {},
   "source": [
    "## Execute the function a work on data\n",
    "\n",
    "Now that we have all we need, we can fetch data and work on them"
   ]
  },
  {
   "cell_type": "code",
   "execution_count": 12,
   "metadata": {},
   "outputs": [
    {
     "output_type": "execute_result",
     "data": {
      "text/plain": "   user_oid            datecreation                      login motdepasse  \\\n0    335991 2017-04-18 22:18:02.340  335991@e-attestations.com       None   \n1    747140 2019-03-07 12:07:49.487  747140@e-attestations.com       None   \n2    607101 2018-10-30 14:47:35.007  607101@e-attestations.com       None   \n3    426652 2017-12-19 14:39:35.874  426652@e-attestations.com       None   \n4    341894 2017-05-03 12:14:41.703  341894@e-attestations.com       None   \n\n  civilite   nom prenom qualite                      email identifiantuser  \\\n0   NEUTRE  None   None    None  335991@e-attestations.com            None   \n1   NEUTRE  None   None    None  747140@e-attestations.com            None   \n2   NEUTRE  None   None    None  607101@e-attestations.com            None   \n3   NEUTRE  None   None    None  426652@e-attestations.com            None   \n4   NEUTRE  None   None    None  341894@e-attestations.com            None   \n\n   ...  phoneregion  internationalphone showtaketourfo showtaketourdo  \\\n0  ...         None                None          False          False   \n1  ...         None                None          False          False   \n2  ...         None                None          False          False   \n3  ...         None                None          False          False   \n4  ...         None                None          False          False   \n\n  passwordhash passwordhashversion passwordlastchange  passwordsalt  \\\n0         None                None               None          None   \n1         None                None               None          None   \n2         None                None               None          None   \n3         None                None               None          None   \n4         None                None               None          None   \n\n   showtaketourlistepaysdo ccuser_status_oid  \n0                    False                 1  \n1                    False                 1  \n2                    False                 1  \n3                    False                 1  \n4                    False                 1  \n\n[5 rows x 25 columns]",
      "text/html": "<div>\n<style scoped>\n    .dataframe tbody tr th:only-of-type {\n        vertical-align: middle;\n    }\n\n    .dataframe tbody tr th {\n        vertical-align: top;\n    }\n\n    .dataframe thead th {\n        text-align: right;\n    }\n</style>\n<table border=\"1\" class=\"dataframe\">\n  <thead>\n    <tr style=\"text-align: right;\">\n      <th></th>\n      <th>user_oid</th>\n      <th>datecreation</th>\n      <th>login</th>\n      <th>motdepasse</th>\n      <th>civilite</th>\n      <th>nom</th>\n      <th>prenom</th>\n      <th>qualite</th>\n      <th>email</th>\n      <th>identifiantuser</th>\n      <th>...</th>\n      <th>phoneregion</th>\n      <th>internationalphone</th>\n      <th>showtaketourfo</th>\n      <th>showtaketourdo</th>\n      <th>passwordhash</th>\n      <th>passwordhashversion</th>\n      <th>passwordlastchange</th>\n      <th>passwordsalt</th>\n      <th>showtaketourlistepaysdo</th>\n      <th>ccuser_status_oid</th>\n    </tr>\n  </thead>\n  <tbody>\n    <tr>\n      <th>0</th>\n      <td>335991</td>\n      <td>2017-04-18 22:18:02.340</td>\n      <td>335991@e-attestations.com</td>\n      <td>None</td>\n      <td>NEUTRE</td>\n      <td>None</td>\n      <td>None</td>\n      <td>None</td>\n      <td>335991@e-attestations.com</td>\n      <td>None</td>\n      <td>...</td>\n      <td>None</td>\n      <td>None</td>\n      <td>False</td>\n      <td>False</td>\n      <td>None</td>\n      <td>None</td>\n      <td>None</td>\n      <td>None</td>\n      <td>False</td>\n      <td>1</td>\n    </tr>\n    <tr>\n      <th>1</th>\n      <td>747140</td>\n      <td>2019-03-07 12:07:49.487</td>\n      <td>747140@e-attestations.com</td>\n      <td>None</td>\n      <td>NEUTRE</td>\n      <td>None</td>\n      <td>None</td>\n      <td>None</td>\n      <td>747140@e-attestations.com</td>\n      <td>None</td>\n      <td>...</td>\n      <td>None</td>\n      <td>None</td>\n      <td>False</td>\n      <td>False</td>\n      <td>None</td>\n      <td>None</td>\n      <td>None</td>\n      <td>None</td>\n      <td>False</td>\n      <td>1</td>\n    </tr>\n    <tr>\n      <th>2</th>\n      <td>607101</td>\n      <td>2018-10-30 14:47:35.007</td>\n      <td>607101@e-attestations.com</td>\n      <td>None</td>\n      <td>NEUTRE</td>\n      <td>None</td>\n      <td>None</td>\n      <td>None</td>\n      <td>607101@e-attestations.com</td>\n      <td>None</td>\n      <td>...</td>\n      <td>None</td>\n      <td>None</td>\n      <td>False</td>\n      <td>False</td>\n      <td>None</td>\n      <td>None</td>\n      <td>None</td>\n      <td>None</td>\n      <td>False</td>\n      <td>1</td>\n    </tr>\n    <tr>\n      <th>3</th>\n      <td>426652</td>\n      <td>2017-12-19 14:39:35.874</td>\n      <td>426652@e-attestations.com</td>\n      <td>None</td>\n      <td>NEUTRE</td>\n      <td>None</td>\n      <td>None</td>\n      <td>None</td>\n      <td>426652@e-attestations.com</td>\n      <td>None</td>\n      <td>...</td>\n      <td>None</td>\n      <td>None</td>\n      <td>False</td>\n      <td>False</td>\n      <td>None</td>\n      <td>None</td>\n      <td>None</td>\n      <td>None</td>\n      <td>False</td>\n      <td>1</td>\n    </tr>\n    <tr>\n      <th>4</th>\n      <td>341894</td>\n      <td>2017-05-03 12:14:41.703</td>\n      <td>341894@e-attestations.com</td>\n      <td>None</td>\n      <td>NEUTRE</td>\n      <td>None</td>\n      <td>None</td>\n      <td>None</td>\n      <td>341894@e-attestations.com</td>\n      <td>None</td>\n      <td>...</td>\n      <td>None</td>\n      <td>None</td>\n      <td>False</td>\n      <td>False</td>\n      <td>None</td>\n      <td>None</td>\n      <td>None</td>\n      <td>None</td>\n      <td>False</td>\n      <td>1</td>\n    </tr>\n  </tbody>\n</table>\n<p>5 rows × 25 columns</p>\n</div>"
     },
     "metadata": {},
     "execution_count": 12
    }
   ],
   "source": [
    "users = load_users()\n",
    "users"
   ]
  },
  {
   "cell_type": "markdown",
   "metadata": {},
   "source": [
    "We can see that pandas has transformed all data in a dataset with :\n",
    "\n",
    "- columns with name provided from database in first line\n",
    "- an index on left column\n",
    "- a well formated output directly without any transformation from our program\n",
    "\n",
    "Pretty handy !\n",
    "\n",
    "We can also increase the number of rows to fetch and see what's happening"
   ]
  },
  {
   "cell_type": "markdown",
   "metadata": {},
   "source": [
    "## Work on each record"
   ]
  },
  {
   "cell_type": "code",
   "execution_count": 13,
   "metadata": {},
   "outputs": [
    {
     "output_type": "stream",
     "name": "stdout",
     "text": "Index(['user_oid', 'datecreation', 'login', 'motdepasse', 'civilite', 'nom',\n       'prenom', 'qualite', 'email', 'identifiantuser', 'inscrit',\n       'changementmdp', 'jetonactivation', 'lang', 'nationalphone',\n       'phoneregion', 'internationalphone', 'showtaketourfo', 'showtaketourdo',\n       'passwordhash', 'passwordhashversion', 'passwordlastchange',\n       'passwordsalt', 'showtaketourlistepaysdo', 'ccuser_status_oid'],\n      dtype='object')\nuser_oid                            int64\ndatecreation               datetime64[ns]\nlogin                              object\nmotdepasse                         object\ncivilite                           object\nnom                                object\nprenom                             object\nqualite                            object\nemail                              object\nidentifiantuser                    object\ninscrit                              bool\nchangementmdp                        bool\njetonactivation                    object\nlang                               object\nnationalphone                      object\nphoneregion                        object\ninternationalphone                 object\nshowtaketourfo                       bool\nshowtaketourdo                       bool\npasswordhash                       object\npasswordhashversion                object\npasswordlastchange                 object\npasswordsalt                       object\nshowtaketourlistepaysdo              bool\nccuser_status_oid                   int64\ndtype: object\n"
    }
   ],
   "source": [
    "users = load_users()\n",
    "\n",
    "# DataFrame manipulations\n",
    "if not users.empty:\n",
    "    print(users.columns)\n",
    "    print(users.dtypes)"
   ]
  },
  {
   "cell_type": "code",
   "execution_count": 14,
   "metadata": {},
   "outputs": [
    {
     "output_type": "stream",
     "name": "stdout",
     "text": "User 0 is 335991@e-attestations.com\nUser 1 is 747140@e-attestations.com\nUser 2 is 607101@e-attestations.com\nUser 3 is 426652@e-attestations.com\nUser 4 is 341894@e-attestations.com\n"
    }
   ],
   "source": [
    "users = load_users()\n",
    "\n",
    "if not users.empty:\n",
    "    # Work with tuples\n",
    "    for user in users.itertuples():\n",
    "        print(f'User {user.Index} is {user.login}')\n",
    ""
   ]
  },
  {
   "cell_type": "code",
   "execution_count": null,
   "metadata": {},
   "outputs": [],
   "source": []
  }
 ],
 "metadata": {
  "kernelspec": {
   "display_name": "Python 3.8.2 64-bit ('default': venv)",
   "language": "python",
   "name": "python38264bitdefaultvenvfd95b710626642fb8f635bf3bfa9bf53"
  },
  "language_info": {
   "codemirror_mode": {
    "name": "ipython",
    "version": 3
   },
   "file_extension": ".py",
   "mimetype": "text/x-python",
   "name": "python",
   "nbconvert_exporter": "python",
   "pygments_lexer": "ipython3",
   "version": "3.8.2-final"
  }
 },
 "nbformat": 4,
 "nbformat_minor": 4
}