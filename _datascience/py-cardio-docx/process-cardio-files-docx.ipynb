{
 "cells": [
  {
   "cell_type": "markdown",
   "metadata": {},
   "source": [
    "- author: Vincent DAGOURY\n",
    "- date: 2020-05-01\n",
    "- email: vincent.dagoury@gmail.com\n",
    "- github : [https://github.com/vincedgy](https://github.com/vincedgy)\n",
    "\n",
    "# Analyse and transform docx file to JSON representation\n",
    "\n",
    "The purpose of this notebook is to analyse the content of formated docx file.\n",
    "This file is used for medical report.\n"
   ]
  },
  {
   "cell_type": "code",
   "execution_count": 1,
   "metadata": {},
   "outputs": [
    {
     "output_type": "stream",
     "name": "stdout",
     "text": "Requirement already satisfied: python-docx in /Users/vdagoury/opt/anaconda3/lib/python3.7/site-packages (0.8.10)\nRequirement already satisfied: lxml in /Users/vdagoury/opt/anaconda3/lib/python3.7/site-packages (4.5.0)\nNote: you may need to restart the kernel to use updated packages.\n"
    }
   ],
   "source": [
    "%pip install python-docx lxml"
   ]
  },
  {
   "cell_type": "markdown",
   "metadata": {},
   "source": [
    "## Analyse the document"
   ]
  },
  {
   "cell_type": "code",
   "execution_count": 2,
   "metadata": {},
   "outputs": [],
   "source": [
    "import docx\n",
    "import re\n",
    "from datetime import datetime\n",
    "import uuid\n",
    "import pandas as pd\n",
    "import zipfile\n",
    "from lxml import etree"
   ]
  },
  {
   "cell_type": "markdown",
   "metadata": {},
   "source": [
    "## Util functions"
   ]
  },
  {
   "cell_type": "code",
   "execution_count": 3,
   "metadata": {},
   "outputs": [],
   "source": [
    "def read_docx(docx_file, **kwargs):\n",
    "    \"\"\"Read tables as DataFrames from a Word document\"\"\"\n",
    "    ns = {'w': 'http://schemas.openxmlformats.org/wordprocessingml/2006/main'}\n",
    "    with zipfile.ZipFile(docx_file).open('word/document.xml') as f:\n",
    "        root = etree.parse(f)\n",
    "    for el in root.xpath('//w:tbl', namespaces=ns):\n",
    "        el.tag = 'table'\n",
    "    for el in root.xpath('//w:tr', namespaces=ns):\n",
    "        el.tag = 'tr'\n",
    "    for el in root.xpath('//w:tc', namespaces=ns):\n",
    "        el.tag = 'td'\n",
    "    return pd.read_html(etree.tostring(root), **kwargs)\n",
    "\n",
    "\n",
    "def clean_token(token):\n",
    "  \"\"\"Cleans token\"\"\"\n",
    "  t=str(token).strip()\n",
    "  t=t.replace('\\xa0','')\n",
    "  t=t.replace('«','')\n",
    "  t=t.replace('»','')\n",
    "  t=t.replace(':','')\n",
    "  return t\n",
    "\n",
    "def read_tokens_from_docx(docx_file, **kwargs):\n",
    "    \"\"\"Read tokens of text from a Word document\"\"\"\n",
    "    blacklist=['',':','&','-','.']\n",
    "    ns = {'w': 'http://schemas.openxmlformats.org/wordprocessingml/2006/main'}\n",
    "    with zipfile.ZipFile(docx_file).open('word/document.xml') as f:\n",
    "        root = etree.parse(f)\n",
    "    tokens=[]\n",
    "    for el in root.xpath('//w:t', namespaces=ns):\n",
    "      t=clean_token(el.text)\n",
    "      if t != '' and t not in blacklist:\n",
    "        tokens.append(t)    \n",
    "    return tokens"
   ]
  },
  {
   "cell_type": "markdown",
   "metadata": {},
   "source": [
    "## Construct 'analyse' result object"
   ]
  },
  {
   "cell_type": "code",
   "execution_count": 4,
   "metadata": {},
   "outputs": [],
   "source": [
    "# Result dictionnary\n",
    "analyse = {}\n",
    "\n",
    "# Attributes\n",
    "key_metadata='metadata'\n",
    "key_data='data'\n",
    "analyse[key_metadata]={}\n",
    "analyse[key_data]={}\n",
    "\n",
    "# Produces ids for this analyse\n",
    "now = datetime.now()\n",
    "analyse['datetime']=now.strftime(\"%Y%m%d%H%M%S\")\n",
    "analyse['timestamp']=str(now.timestamp())\n",
    "analyse['id']=str(uuid.uuid4())"
   ]
  },
  {
   "cell_type": "markdown",
   "metadata": {},
   "source": [
    "## Building document internal object"
   ]
  },
  {
   "cell_type": "code",
   "execution_count": 5,
   "metadata": {},
   "outputs": [],
   "source": [
    "# Process the doc (with python-docx)\n",
    "doc = docx.Document('file.docx')\n",
    "\n",
    "# Process XML tokens in docx file\n",
    "tokens=read_tokens_from_docx(docx_file='file.docx')\n",
    "analyse[key_data]['title']=tokens[0]\n",
    "\n",
    "# Also build tables to DataFrames\n",
    "df2 = read_docx(docx_file='file.docx')"
   ]
  },
  {
   "cell_type": "markdown",
   "metadata": {},
   "source": [
    "### Example with tokens"
   ]
  },
  {
   "cell_type": "code",
   "execution_count": 6,
   "metadata": {},
   "outputs": [
    {
     "output_type": "stream",
     "name": "stdout",
     "text": "17/03/2020\n"
    }
   ],
   "source": [
    "# Find a (the next) token based on the content of previsous one\n",
    "nb_tokens=len(tokens)\n",
    "for i in range(nb_tokens):\n",
    "  if 'Date opératoire' in tokens[i]:\n",
    "    print(tokens[i+1])"
   ]
  },
  {
   "cell_type": "markdown",
   "metadata": {},
   "source": [
    "## Document metadata"
   ]
  },
  {
   "cell_type": "code",
   "execution_count": 7,
   "metadata": {},
   "outputs": [
    {
     "output_type": "execute_result",
     "data": {
      "text/plain": "{'title': 'Institut Cardiovasculaire Paris Sud',\n 'author': 'Bloc HPJC',\n 'created': '2020-04-29 18:40:00',\n 'modified': '2020-04-29 19:31:00',\n 'last_modified_by': 'Jérôme Lacotte',\n 'last_printed': '2020-03-17 16:00:00',\n 'revision': 42,\n 'subject': '',\n 'identifier': '',\n 'comments': '',\n 'category': '',\n 'keywords': '',\n 'content_status': '',\n 'language': '',\n 'version': ''}"
     },
     "metadata": {},
     "execution_count": 7
    }
   ],
   "source": [
    "analyse[key_metadata]['title']=doc.core_properties.title\n",
    "analyse[key_metadata]['author']=doc.core_properties.author\n",
    "analyse[key_metadata]['created']=str(doc.core_properties.created)\n",
    "analyse[key_metadata]['modified']=str(doc.core_properties.modified)\n",
    "analyse[key_metadata]['last_modified_by']=str(doc.core_properties.last_modified_by)\n",
    "analyse[key_metadata]['last_printed']=str(doc.core_properties.last_printed)\n",
    "analyse[key_metadata]['revision']=doc.core_properties.revision\n",
    "analyse[key_metadata]['subject']=doc.core_properties.subject\n",
    "analyse[key_metadata]['identifier']=doc.core_properties.identifier\n",
    "analyse[key_metadata]['comments']=doc.core_properties.comments\n",
    "analyse[key_metadata]['category']=doc.core_properties.category\n",
    "analyse[key_metadata]['keywords']=doc.core_properties.keywords\n",
    "analyse[key_metadata]['content_status']=doc.core_properties.content_status\n",
    "analyse[key_metadata]['language']=doc.core_properties.language\n",
    "analyse[key_metadata]['version']=doc.core_properties.version\n",
    "analyse[key_metadata]"
   ]
  },
  {
   "cell_type": "markdown",
   "metadata": {},
   "source": [
    "### Catching specific paragraphs"
   ]
  },
  {
   "cell_type": "code",
   "execution_count": 8,
   "metadata": {},
   "outputs": [],
   "source": [
    "all_paragraphs = doc.paragraphs\n",
    "fullText = []\n",
    "for paragraph in all_paragraphs:\n",
    "  text = paragraph.text\n",
    "  fullText.append(text)\n",
    "  # 'Indication'\n",
    "  if 'Indication' in text:\n",
    "    analyse[key_data]['Indication'] = re.search(r'^Indication\\s:\\s(.+)$', text).group(1)\n",
    "  # 'Remarque'\n",
    "  if 'Remarque' in text:\n",
    "    analyse[key_data]['Remarque'] = re.search(r'^Remarque\\s:\\s(.+)$', text).group(1)\n",
    "  # 'Fermeture'\n",
    "  if 'Fermeture' in text:\n",
    "    analyse[key_data]['Fermeture'] = text   \n",
    "\n",
    "#print('\\n'.join(fullText))"
   ]
  },
  {
   "cell_type": "markdown",
   "metadata": {},
   "source": [
    "## Work on DataFrame"
   ]
  },
  {
   "cell_type": "markdown",
   "metadata": {},
   "source": [
    "### 'Main tab' part"
   ]
  },
  {
   "cell_type": "code",
   "execution_count": 9,
   "metadata": {},
   "outputs": [
    {
     "output_type": "execute_result",
     "data": {
      "text/plain": "{'title': 'CHANGEMENT DE STIMULATEUR CARDIAQUE (DEKA 001)',\n 'Indication': 'Usure batterie. Dysfonction sinusale.',\n 'Remarque': 'intervention en urgence',\n 'Fermeture': 'Fermeture en 3 plans. Sous peau = Vicryl ® 2-0\\xa0; peau =   ',\n 'Nom': 'NOMANONYME',\n 'Prénom': 'PRENOMANONYME',\n 'Né(e) le': '12/04/1928',\n 'Opérateur(s)': 'Dr(s) Mina AIT SAID & Pascale CHEMALY',\n 'Anesthésiste': 'Dr Laurent TELLIER',\n 'Anesthésie': 'locale et neuroleptanalgésie',\n 'Début - Fin': '15h30-16h',\n 'NIP': '202002582.0',\n 'Durée Rx (min)': '2',\n 'PDS (µGy.m²)': '3',\n 'Date opératoire': '17/03/2020',\n 'Scopie': \"Siemens CIOS ALPHA - mise en service le 10/03/2015 - numéro d'installation L035874\"}"
     },
     "metadata": {},
     "execution_count": 9
    }
   ],
   "source": [
    "df_tab1=df2[0]\n",
    "analyse[key_data]['Nom'] = clean_token(df_tab1[1][0])\n",
    "analyse[key_data]['Prénom'] = clean_token(df_tab1[3][0])\n",
    "analyse[key_data]['Né(e) le'] = clean_token(df_tab1[1][1])\n",
    "analyse[key_data]['Opérateur(s)'] = clean_token(df_tab1[1][2])\n",
    "analyse[key_data]['Anesthésiste'] = clean_token(df_tab1[1][3])\n",
    "analyse[key_data]['Anesthésie'] = clean_token(df_tab1[3][3])\n",
    "#analyse[key_data]['Date opératoire'] = 'NaN'\n",
    "analyse[key_data]['Début - Fin'] = clean_token(df_tab1[2][4])\n",
    "analyse[key_data]['NIP'] = clean_token(df_tab1[5][1])\n",
    "analyse[key_data]['Durée Rx (min)'] = clean_token(df_tab1[1][5])\n",
    "analyse[key_data]['PDS (µGy.m²)'] = clean_token(df_tab1[3][5])\n",
    "\n",
    "# With tokens\n",
    "for i in range(len(tokens)):\n",
    "  if 'Date opératoire' in tokens[i]:\n",
    "    analyse[key_data]['Date opératoire']=clean_token(tokens[i+1])\n",
    "  if 'Scopie' in tokens[i]:\n",
    "    analyse[key_data]['Scopie']=clean_token(tokens[i+1])\n",
    "analyse[key_data]"
   ]
  },
  {
   "cell_type": "markdown",
   "metadata": {},
   "source": [
    "### 'Symptomes' part"
   ]
  },
  {
   "cell_type": "code",
   "execution_count": 10,
   "metadata": {},
   "outputs": [
    {
     "output_type": "execute_result",
     "data": {
      "text/plain": "{'Cardiopathie': 'ischémique',\n 'Cardiomyopathie': 'non',\n 'Autre': 'non',\n 'Canalopathie et autre': 'non'}"
     },
     "metadata": {},
     "execution_count": 10
    }
   ],
   "source": [
    "df_tab2=df2[1]\n",
    "analyse[key_data]['symptomes']={}\n",
    "for i in range(4):\n",
    "  analyse[key_data]['symptomes'][df_tab2[i][0]] = clean_token(df_tab2[i][1])\n",
    "analyse[key_data]['symptomes']"
   ]
  },
  {
   "cell_type": "markdown",
   "metadata": {},
   "source": [
    "### 'Protocole' part"
   ]
  },
  {
   "cell_type": "code",
   "execution_count": 11,
   "metadata": {},
   "outputs": [
    {
     "output_type": "execute_result",
     "data": {
      "text/plain": "{'Antibradycardique': 'BAV III',\n 'Resynchronisation': 'non',\n 'Resynchronisation-2': 'QRS  110 ms',\n 'Antitachycardique': 'non',\n 'Antitachycardique-2': 'pas de SVP',\n 'NYHA': 'I',\n 'FE': '50'}"
     },
     "metadata": {},
     "execution_count": 11
    }
   ],
   "source": [
    "df_tab3=df2[2]\n",
    "analyse[key_data]['protocole']={}\n",
    "analyse[key_data]['protocole'][df_tab3[0][0]] = clean_token(df_tab3[0][1])\n",
    "analyse[key_data]['protocole'][df_tab3[1][0]] = clean_token(df_tab3[1][1])\n",
    "analyse[key_data]['protocole'][df_tab3[1][0] + \"-2\"] = clean_token(df_tab3[2][1])\n",
    "analyse[key_data]['protocole'][df_tab3[2][0]] = clean_token(df_tab3[3][1])\n",
    "analyse[key_data]['protocole'][df_tab3[2][0] + \"-2\"] = clean_token(df_tab3[4][1])\n",
    "analyse[key_data]['protocole'][df_tab3[3][0]] = clean_token(df_tab3[3][1])\n",
    "#analyse[key_data]['protocole'][df_tab3[3][0]] = 'NaN'\n",
    "\n",
    "\n",
    "# NYHA and FE with tokens\n",
    "for i in range(len(tokens)):\n",
    "  if 'NYHA' in tokens[i]:\n",
    "    analyse[key_data]['protocole']['NYHA']=clean_token(tokens[i+9])\n",
    "  if 'FE' in tokens[i]:\n",
    "    analyse[key_data]['protocole']['FE']=clean_token(tokens[i+9])\n",
    "    \n",
    "analyse[key_data]['protocole']"
   ]
  },
  {
   "cell_type": "code",
   "execution_count": 12,
   "metadata": {},
   "outputs": [
    {
     "output_type": "stream",
     "name": "stdout",
     "text": "['CHANGEMENT DE STIMULATEUR CARDIAQUE (DEKA 001)', 'Nom', 'NOMANONYME', 'Prénom', 'PRENOMANONYME', 'Né(é) le', '12/04/1928', 'NIP', '202002582', 'Opérateur(s)', 'Dr(s)', 'Mina AIT SAID', 'Pascale CHEMALY', 'Anesthésiste ', 'Dr', 'Laurent TELLIER', 'Anesthésie', 'locale et neuroleptanalgésie', 'Date opératoire', '17/03/2020', 'Début', 'Fin', '15h30-16h', 'Durée', 'Rx', '(min)', '2', 'PDS', '(µGy.m²)', '3', 'Scopie', \"Siemens CIOS ALPHA - mise en service le 10/03/2015 - numéro d'installation L035874\", 'Indication', 'Usure batterie. Dysfonction sinusale', 'Symptômes', 'asthénie', 'Cardiopathie', 'Cardiomyopathie', 'Autre', 'Canalopathie et autre', 'ischémique', 'non', 'non', 'non', 'Antibradycardique', 'Resynchronisation', 'Antitachycardique', 'NYHA', 'FE', 'BAV III', 'non', 'QRS', '110', 'ms', 'non', 'pas de SVP', 'I', '50', '%', 'Remarque', 'intervention en urgence', 'Matériel', 'Sondes', 'Position', 'OD', 'VD', 'VG', 'Etat', 'implantée', 'implantée', 'implantée', 'Localisation', 'endocavitaire', 'endocavitaire', 'endocavitaire', 'Date d’implantation', '22/03/2011', '22/03/2011', '22/03/2011', 'Abord veineux', 'céphalique', 'céphalique', 'céphalique', 'Marque / Modèle', 'Medtronic 5076-52 cm', 'Medtronic 5076-58 cm', 'Biotronik Solia S60', 'N° de série', 'PJN2484323', 'PJN2477911', 'PJN2477', '733', 'IRM', 'conditional', 'oui', 'oui', 'oui', 'Seuil de', 'stim', '. à 0.5 ms', '1', '0.8', '1.2', 'Détection', '2', '15', '1', '0', 'Impédance à 5 V', '560', '450', '1000', 'Boîtier', 'Type', 'Stimulateur', 'Etat', 'implanté', 'Marque /', 'Modèle', 'Biotronik', 'Edora', '8 DR T', 'Position', 'gauche', 'Localisation', 'pré-pectoral', 'N° de série', '69578914', 'IRM', 'conditional', 'oui', 'Ancien boitierimplanté le', 'Type', 'Stimulateur', 'Etat', 'explanté', 'Marque / Modèle', 'St Jude Accent DR', 'Position', 'gauche', 'Localisation', 'pré-pectoral', 'N° de série', '4250261', 'Fermeture en 3 plans. Sous peau = Vicryl ® 2-0; peau =', 'Monocryl® 3-0', 'Structure des', 'onnées', 'à extraire', 'Text', 'e', 'libre', 'Single', 'select', 'from list', 'YORN', 'Date', 'time', 'Decimal', '%', 'Tables', 'Patient', 'Intervention', '– N à 1', 'avec p', 'atient', 'Dispositif', 's', 'N à 1 avec intervention', ', ici N=', '5', '4', 'Implantés', 'varie de 0 à 4 selon interventions', ', balise =', 'implanté', '1 Explantés', 'varie de 0 à 1 selon interventions,', 'balise =', 'explanté']\n"
    }
   ],
   "source": [
    "print(tokens)"
   ]
  },
  {
   "cell_type": "markdown",
   "metadata": {},
   "source": [
    "### 'Sondes' part"
   ]
  },
  {
   "cell_type": "code",
   "execution_count": 13,
   "metadata": {},
   "outputs": [
    {
     "output_type": "execute_result",
     "data": {
      "text/plain": "[{'Position': 'OD',\n  'Etat': 'implantée',\n  'Localisation': 'endocavitaire',\n  'Date d’implantation': '22/03/2011',\n  'Abord veineux': 'céphalique',\n  'Marque / Modèle': 'Medtronic 5076-52 cm',\n  'N° de série': 'PJN2484323',\n  'IRM conditional': 'nan',\n  'Seuil de stim. à 0.5 ms': '1',\n  'Détection': '2',\n  'Impédance à 5 V': '560'},\n {'Position': 'VD',\n  'Etat': 'implantée',\n  'Localisation': 'endocavitaire',\n  'Date d’implantation': '22/03/2011',\n  'Abord veineux': 'céphalique',\n  'Marque / Modèle': 'Medtronic 5076-58 cm',\n  'N° de série': 'PJN2477911',\n  'IRM conditional': 'nan',\n  'Seuil de stim. à 0.5 ms': '0.8',\n  'Détection': '15',\n  'Impédance à 5 V': '450'},\n {'Position': 'VG',\n  'Etat': 'implantée',\n  'Localisation': 'endocavitaire',\n  'Date d’implantation': '22/03/2011',\n  'Abord veineux': 'nan',\n  'Marque / Modèle': 'Biotronik Solia S60',\n  'N° de série': 'PJN2477733',\n  'IRM conditional': 'nan',\n  'Seuil de stim. à 0.5 ms': '1.2',\n  'Détection': '10',\n  'Impédance à 5 V': '1000'}]"
     },
     "metadata": {},
     "execution_count": 13
    }
   ],
   "source": [
    "df_tab4=df2[3]\n",
    "analyse[key_data]['materiel']={}\n",
    "analyse[key_data]['materiel']['sondes']=[]\n",
    "\n",
    "for i in range(3):\n",
    "  materiel={}\n",
    "  for j in range(11):\n",
    "    materiel[clean_token(df_tab4[0][j])]=clean_token(df_tab4[i+1][j])\n",
    "  for k in range(len(tokens)):\n",
    "    if 'Date d’implantation' in tokens[k]:\n",
    "      materiel['Date d’implantation']=tokens[k+i+1]\n",
    "  analyse[key_data]['materiel']['sondes'].append(materiel)\n",
    "  \n",
    "analyse[key_data]['materiel']['sondes']"
   ]
  },
  {
   "cell_type": "markdown",
   "metadata": {},
   "source": [
    "### 'Boitier' part"
   ]
  },
  {
   "cell_type": "code",
   "execution_count": 14,
   "metadata": {},
   "outputs": [
    {
     "output_type": "execute_result",
     "data": {
      "text/plain": "{'Type': 'Stimulateur',\n 'Marque / Modèle': 'Biotronik Edora 8 DR T',\n 'N° de série': '69578914',\n 'Etat': 'implanté',\n 'Position': 'gauche',\n 'Localisation': 'pré-pectoral',\n 'IRM conditional': 'oui'}"
     },
     "metadata": {},
     "execution_count": 14
    }
   ],
   "source": [
    "df_tab5=df2[4]\n",
    "\n",
    "analyse[key_data]['materiel']['boitier']={}\n",
    "analyse[key_data]['materiel']['boitier'][df_tab5[0][0]]=df_tab5[1][0]\n",
    "#analyse[key_data]['materiel']['boitier'][df_tab5[2][0]]='Nan'\n",
    "#analyse[key_data]['materiel']['boitier'][df_tab5[0][1]]='Nan'\n",
    "#analyse[key_data]['materiel']['boitier'][df_tab5[1][1]]='Nan'\n",
    "analyse[key_data]['materiel']['boitier'][df_tab5[3][0]]=df_tab5[4][0]\n",
    "analyse[key_data]['materiel']['boitier'][df_tab5[2][1]]=df_tab5[3][1]\n",
    "#analyse[key_data]['materiel']['boitier'][df_tab5[4][2]]='Nan'\n",
    "\n",
    "\n",
    "# Add tokens for 'boitier'\n",
    "found_boitier=False\n",
    "\n",
    "for i in range(len(tokens)):\n",
    "\n",
    "  # This starts 'boitier' section\n",
    "  if 'Boîtier' in tokens[i]:\n",
    "    analyse[key_data]['materiel']['boitier']['Etat']=tokens[i+4]\n",
    "    found_boitier=True\n",
    "  if found_boitier and 'Position' in tokens[i]:\n",
    "    analyse[key_data]['materiel']['boitier']['Position']=tokens[i+1]\n",
    "  if found_boitier and 'Localisation' in tokens[i]:\n",
    "    analyse[key_data]['materiel']['boitier']['Localisation']=tokens[i+1]\n",
    "  if found_boitier and 'IRM' in tokens[i] and 'conditional' in tokens[i+1]:\n",
    "    analyse[key_data]['materiel']['boitier']['IRM conditional']=tokens[i+2]\n",
    "    found_boitier=False \n",
    "    # This ends 'boitier' section\n",
    "    \n",
    "\n",
    "analyse[key_data]['materiel']['boitier']"
   ]
  },
  {
   "cell_type": "markdown",
   "metadata": {},
   "source": [
    "### 'Ancien boitier' part"
   ]
  },
  {
   "cell_type": "code",
   "execution_count": 15,
   "metadata": {},
   "outputs": [
    {
     "output_type": "execute_result",
     "data": {
      "text/plain": "{'Type': 'Stimulateur',\n 'Marque / Modèle': 'St Jude Accent DR',\n 'N° de série': '4250261',\n 'Etat': 'explanté',\n 'Position': 'gauche',\n 'Localisation': 'pré-pectoral'}"
     },
     "metadata": {},
     "execution_count": 15
    }
   ],
   "source": [
    "df_tab6=df2[5]\n",
    "\n",
    "analyse[key_data]['materiel']['ancien_boitier']={}\n",
    "analyse[key_data]['materiel']['ancien_boitier'][df_tab6[0][0]]=df_tab6[1][0]\n",
    "#analyse[key_data]['materiel']['ancien_boitier'][df_tab5[2][0]]='Nan'\n",
    "#analyse[key_data]['materiel']['ancien_boitier'][df_tab6[0][1]]='Nan'\n",
    "#analyse[key_data]['materiel']['ancien_boitier'][df_tab6[1][1]]='Nan'\n",
    "analyse[key_data]['materiel']['ancien_boitier'][df_tab6[3][0]]=df_tab6[4][0]\n",
    "analyse[key_data]['materiel']['ancien_boitier'][df_tab6[2][1]]=df_tab6[3][1]\n",
    "\n",
    "# Add tokens for 'ancien_boitier'\n",
    "found_ancien_boitier=False\n",
    "for i in range(len(tokens)):\n",
    "  if 'Ancien boitier' in tokens[i]:\n",
    "    analyse[key_data]['materiel']['ancien_boitier']['Etat']=tokens[i+4]\n",
    "    found_ancien_boitier=True\n",
    "  if found_ancien_boitier and 'Position' in tokens[i]:\n",
    "    analyse[key_data]['materiel']['ancien_boitier']['Position']=tokens[i+1]\n",
    "  if found_ancien_boitier and 'Localisation' in tokens[i]:\n",
    "    analyse[key_data]['materiel']['ancien_boitier']['Localisation']=tokens[i+1]\n",
    "    found_ancien_boitier=False\n",
    "    \n",
    "analyse[key_data]['materiel']['ancien_boitier']"
   ]
  },
  {
   "cell_type": "markdown",
   "metadata": {},
   "source": [
    "## Final 'analyse' object"
   ]
  },
  {
   "cell_type": "code",
   "execution_count": 16,
   "metadata": {},
   "outputs": [
    {
     "output_type": "execute_result",
     "data": {
      "text/plain": "{'metadata': {'title': 'Institut Cardiovasculaire Paris Sud',\n  'author': 'Bloc HPJC',\n  'created': '2020-04-29 18:40:00',\n  'modified': '2020-04-29 19:31:00',\n  'last_modified_by': 'Jérôme Lacotte',\n  'last_printed': '2020-03-17 16:00:00',\n  'revision': 42,\n  'subject': '',\n  'identifier': '',\n  'comments': '',\n  'category': '',\n  'keywords': '',\n  'content_status': '',\n  'language': '',\n  'version': ''},\n 'data': {'title': 'CHANGEMENT DE STIMULATEUR CARDIAQUE (DEKA 001)',\n  'Indication': 'Usure batterie. Dysfonction sinusale.',\n  'Remarque': 'intervention en urgence',\n  'Fermeture': 'Fermeture en 3 plans. Sous peau = Vicryl ® 2-0\\xa0; peau =   ',\n  'Nom': 'NOMANONYME',\n  'Prénom': 'PRENOMANONYME',\n  'Né(e) le': '12/04/1928',\n  'Opérateur(s)': 'Dr(s) Mina AIT SAID & Pascale CHEMALY',\n  'Anesthésiste': 'Dr Laurent TELLIER',\n  'Anesthésie': 'locale et neuroleptanalgésie',\n  'Début - Fin': '15h30-16h',\n  'NIP': '202002582.0',\n  'Durée Rx (min)': '2',\n  'PDS (µGy.m²)': '3',\n  'Date opératoire': '17/03/2020',\n  'Scopie': \"Siemens CIOS ALPHA - mise en service le 10/03/2015 - numéro d'installation L035874\",\n  'symptomes': {'Cardiopathie': 'ischémique',\n   'Cardiomyopathie': 'non',\n   'Autre': 'non',\n   'Canalopathie et autre': 'non'},\n  'protocole': {'Antibradycardique': 'BAV III',\n   'Resynchronisation': 'non',\n   'Resynchronisation-2': 'QRS  110 ms',\n   'Antitachycardique': 'non',\n   'Antitachycardique-2': 'pas de SVP',\n   'NYHA': 'I',\n   'FE': '50'},\n  'materiel': {'sondes': [{'Position': 'OD',\n     'Etat': 'implantée',\n     'Localisation': 'endocavitaire',\n     'Date d’implantation': '22/03/2011',\n     'Abord veineux': 'céphalique',\n     'Marque / Modèle': 'Medtronic 5076-52 cm',\n     'N° de série': 'PJN2484323',\n     'IRM conditional': 'nan',\n     'Seuil de stim. à 0.5 ms': '1',\n     'Détection': '2',\n     'Impédance à 5 V': '560'},\n    {'Position': 'VD',\n     'Etat': 'implantée',\n     'Localisation': 'endocavitaire',\n     'Date d’implantation': '22/03/2011',\n     'Abord veineux': 'céphalique',\n     'Marque / Modèle': 'Medtronic 5076-58 cm',\n     'N° de série': 'PJN2477911',\n     'IRM conditional': 'nan',\n     'Seuil de stim. à 0.5 ms': '0.8',\n     'Détection': '15',\n     'Impédance à 5 V': '450'},\n    {'Position': 'VG',\n     'Etat': 'implantée',\n     'Localisation': 'endocavitaire',\n     'Date d’implantation': '22/03/2011',\n     'Abord veineux': 'nan',\n     'Marque / Modèle': 'Biotronik Solia S60',\n     'N° de série': 'PJN2477733',\n     'IRM conditional': 'nan',\n     'Seuil de stim. à 0.5 ms': '1.2',\n     'Détection': '10',\n     'Impédance à 5 V': '1000'}],\n   'boitier': {'Type': 'Stimulateur',\n    'Marque / Modèle': 'Biotronik Edora 8 DR T',\n    'N° de série': '69578914',\n    'Etat': 'implanté',\n    'Position': 'gauche',\n    'Localisation': 'pré-pectoral',\n    'IRM conditional': 'oui'},\n   'ancien_boitier': {'Type': 'Stimulateur',\n    'Marque / Modèle': 'St Jude Accent DR',\n    'N° de série': '4250261',\n    'Etat': 'explanté',\n    'Position': 'gauche',\n    'Localisation': 'pré-pectoral'}}},\n 'datetime': '20200502184452',\n 'timestamp': '1588437892.330804',\n 'id': '43dec666-2223-4bc1-a4a7-2e713bbdb500'}"
     },
     "metadata": {},
     "execution_count": 16
    }
   ],
   "source": [
    "analyse"
   ]
  },
  {
   "cell_type": "markdown",
   "metadata": {},
   "source": [
    "## Build a JSON based representation"
   ]
  },
  {
   "cell_type": "code",
   "execution_count": 17,
   "metadata": {},
   "outputs": [
    {
     "output_type": "stream",
     "name": "stdout",
     "text": "{\n    \"data\": {\n        \"Anesth\\u00e9sie\": \"locale et neuroleptanalg\\u00e9sie\",\n        \"Anesth\\u00e9siste\": \"Dr Laurent TELLIER\",\n        \"Date op\\u00e9ratoire\": \"17/03/2020\",\n        \"Dur\\u00e9e Rx (min)\": \"2\",\n        \"D\\u00e9but - Fin\": \"15h30-16h\",\n        \"Fermeture\": \"Fermeture en 3 plans. Sous peau = Vicryl \\u00ae 2-0\\u00a0; peau =   \",\n        \"Indication\": \"Usure batterie. Dysfonction sinusale.\",\n        \"NIP\": \"202002582.0\",\n        \"Nom\": \"NOMANONYME\",\n        \"N\\u00e9(e) le\": \"12/04/1928\",\n        \"Op\\u00e9rateur(s)\": \"Dr(s) Mina AIT SAID & Pascale CHEMALY\",\n        \"PDS (\\u00b5Gy.m\\u00b2)\": \"3\",\n        \"Pr\\u00e9nom\": \"PRENOMANONYME\",\n        \"Remarque\": \"intervention en urgence\",\n        \"Scopie\": \"Siemens CIOS ALPHA - mise en service le 10/03/2015 - num\\u00e9ro d'installation L035874\",\n        \"materiel\": {\n            \"ancien_boitier\": {\n                \"Etat\": \"explant\\u00e9\",\n                \"Localisation\": \"pr\\u00e9-pectoral\",\n                \"Marque / Mod\\u00e8le\": \"St Jude Accent DR\",\n                \"N\\u00b0 de s\\u00e9rie\": \"4250261\",\n                \"Position\": \"gauche\",\n                \"Type\": \"Stimulateur\"\n            },\n            \"boitier\": {\n                \"Etat\": \"implant\\u00e9\",\n                \"IRM conditional\": \"oui\",\n                \"Localisation\": \"pr\\u00e9-pectoral\",\n                \"Marque / Mod\\u00e8le\": \"Biotronik Edora 8 DR T\",\n                \"N\\u00b0 de s\\u00e9rie\": \"69578914\",\n                \"Position\": \"gauche\",\n                \"Type\": \"Stimulateur\"\n            },\n            \"sondes\": [\n                {\n                    \"Abord veineux\": \"c\\u00e9phalique\",\n                    \"Date d\\u2019implantation\": \"22/03/2011\",\n                    \"D\\u00e9tection\": \"2\",\n                    \"Etat\": \"implant\\u00e9e\",\n                    \"IRM conditional\": \"nan\",\n                    \"Imp\\u00e9dance \\u00e0 5 V\": \"560\",\n                    \"Localisation\": \"endocavitaire\",\n                    \"Marque / Mod\\u00e8le\": \"Medtronic 5076-52 cm\",\n                    \"N\\u00b0 de s\\u00e9rie\": \"PJN2484323\",\n                    \"Position\": \"OD\",\n                    \"Seuil de stim. \\u00e0 0.5 ms\": \"1\"\n                },\n                {\n                    \"Abord veineux\": \"c\\u00e9phalique\",\n                    \"Date d\\u2019implantation\": \"22/03/2011\",\n                    \"D\\u00e9tection\": \"15\",\n                    \"Etat\": \"implant\\u00e9e\",\n                    \"IRM conditional\": \"nan\",\n                    \"Imp\\u00e9dance \\u00e0 5 V\": \"450\",\n                    \"Localisation\": \"endocavitaire\",\n                    \"Marque / Mod\\u00e8le\": \"Medtronic 5076-58 cm\",\n                    \"N\\u00b0 de s\\u00e9rie\": \"PJN2477911\",\n                    \"Position\": \"VD\",\n                    \"Seuil de stim. \\u00e0 0.5 ms\": \"0.8\"\n                },\n                {\n                    \"Abord veineux\": \"nan\",\n                    \"Date d\\u2019implantation\": \"22/03/2011\",\n                    \"D\\u00e9tection\": \"10\",\n                    \"Etat\": \"implant\\u00e9e\",\n                    \"IRM conditional\": \"nan\",\n                    \"Imp\\u00e9dance \\u00e0 5 V\": \"1000\",\n                    \"Localisation\": \"endocavitaire\",\n                    \"Marque / Mod\\u00e8le\": \"Biotronik Solia S60\",\n                    \"N\\u00b0 de s\\u00e9rie\": \"PJN2477733\",\n                    \"Position\": \"VG\",\n                    \"Seuil de stim. \\u00e0 0.5 ms\": \"1.2\"\n                }\n            ]\n        },\n        \"protocole\": {\n            \"Antibradycardique\": \"BAV III\",\n            \"Antitachycardique\": \"non\",\n            \"Antitachycardique-2\": \"pas de SVP\",\n            \"FE\": \"50\",\n            \"NYHA\": \"I\",\n            \"Resynchronisation\": \"non\",\n            \"Resynchronisation-2\": \"QRS  110 ms\"\n        },\n        \"symptomes\": {\n            \"Autre\": \"non\",\n            \"Canalopathie et autre\": \"non\",\n            \"Cardiomyopathie\": \"non\",\n            \"Cardiopathie\": \"isch\\u00e9mique\"\n        },\n        \"title\": \"CHANGEMENT DE STIMULATEUR CARDIAQUE (DEKA 001)\"\n    },\n    \"datetime\": \"20200502184452\",\n    \"id\": \"43dec666-2223-4bc1-a4a7-2e713bbdb500\",\n    \"metadata\": {\n        \"author\": \"Bloc HPJC\",\n        \"category\": \"\",\n        \"comments\": \"\",\n        \"content_status\": \"\",\n        \"created\": \"2020-04-29 18:40:00\",\n        \"identifier\": \"\",\n        \"keywords\": \"\",\n        \"language\": \"\",\n        \"last_modified_by\": \"J\\u00e9r\\u00f4me Lacotte\",\n        \"last_printed\": \"2020-03-17 16:00:00\",\n        \"modified\": \"2020-04-29 19:31:00\",\n        \"revision\": 42,\n        \"subject\": \"\",\n        \"title\": \"Institut Cardiovasculaire Paris Sud\",\n        \"version\": \"\"\n    },\n    \"timestamp\": \"1588437892.330804\"\n}\n"
    }
   ],
   "source": [
    "import json\n",
    "i=json.dumps(analyse, sort_keys=True, indent=4)\n",
    "print(i)"
   ]
  },
  {
   "cell_type": "markdown",
   "metadata": {},
   "source": [
    "## Save to an output file"
   ]
  },
  {
   "cell_type": "code",
   "execution_count": 18,
   "metadata": {},
   "outputs": [],
   "source": [
    "with open('file.json', 'w') as w:\n",
    "  w.write(json.dumps(analyse, sort_keys=True, indent=4))"
   ]
  },
  {
   "cell_type": "code",
   "execution_count": null,
   "metadata": {},
   "outputs": [],
   "source": []
  }
 ],
 "metadata": {
  "kernelspec": {
   "display_name": "Python 3.7.7 64-bit ('base': conda)",
   "language": "python",
   "name": "python37764bitbaseconda2be9193cf42c4266a2238ff734ff875e"
  },
  "language_info": {
   "codemirror_mode": {
    "name": "ipython",
    "version": 3
   },
   "file_extension": ".py",
   "mimetype": "text/x-python",
   "name": "python",
   "nbconvert_exporter": "python",
   "pygments_lexer": "ipython3",
   "version": "3.7.7-final"
  }
 },
 "nbformat": 4,
 "nbformat_minor": 4
}