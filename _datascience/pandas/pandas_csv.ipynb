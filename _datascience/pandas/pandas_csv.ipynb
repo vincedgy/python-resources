{
 "cells": [
  {
   "cell_type": "code",
   "execution_count": 2,
   "metadata": {},
   "outputs": [
    {
     "output_type": "stream",
     "name": "stdout",
     "text": "Requirement already satisfied: pandas in /Users/vdagoury/.pyenv/versions/3.8.2/envs/default/lib/python3.8/site-packages (1.0.3)\nRequirement already satisfied: numpy in /Users/vdagoury/.pyenv/versions/3.8.2/envs/default/lib/python3.8/site-packages (1.18.2)\nRequirement already satisfied: pytz>=2017.2 in /Users/vdagoury/.pyenv/versions/3.8.2/envs/default/lib/python3.8/site-packages (from pandas) (2019.3)\nRequirement already satisfied: python-dateutil>=2.6.1 in /Users/vdagoury/.pyenv/versions/3.8.2/envs/default/lib/python3.8/site-packages (from pandas) (2.8.1)\nRequirement already satisfied: six>=1.5 in /Users/vdagoury/.pyenv/versions/3.8.2/envs/default/lib/python3.8/site-packages (from python-dateutil>=2.6.1->pandas) (1.14.0)\n"
    }
   ],
   "source": [
    "# Install the psycopg2 pip package in the current Jupyter kernel\n",
    "import sys\n",
    "!{sys.executable} -m pip install pandas numpy"
   ]
  },
  {
   "cell_type": "code",
   "execution_count": 4,
   "metadata": {},
   "outputs": [
    {
     "output_type": "stream",
     "name": "stdout",
     "text": "CPU times: user 2 µs, sys: 0 ns, total: 2 µs\nWall time: 4.05 µs\n"
    },
    {
     "output_type": "execute_result",
     "data": {
      "text/plain": "  id;category;description\n0                   3;4;B\n1                   5;6;C",
      "text/html": "<div>\n<style scoped>\n    .dataframe tbody tr th:only-of-type {\n        vertical-align: middle;\n    }\n\n    .dataframe tbody tr th {\n        vertical-align: top;\n    }\n\n    .dataframe thead th {\n        text-align: right;\n    }\n</style>\n<table border=\"1\" class=\"dataframe\">\n  <thead>\n    <tr style=\"text-align: right;\">\n      <th></th>\n      <th>id;category;description</th>\n    </tr>\n  </thead>\n  <tbody>\n    <tr>\n      <th>0</th>\n      <td>3;4;B</td>\n    </tr>\n    <tr>\n      <th>1</th>\n      <td>5;6;C</td>\n    </tr>\n  </tbody>\n</table>\n</div>"
     },
     "metadata": {},
     "execution_count": 4
    }
   ],
   "source": [
    "import pandas as pd\n",
    "data = pd.read_csv('/Users/vdagoury/Projects/Python/python-resources/_datascience/pandas/data.csv')\n",
    "%time \n",
    "data"
   ]
  },
  {
   "cell_type": "code",
   "execution_count": null,
   "metadata": {},
   "outputs": [],
   "source": []
  }
 ],
 "metadata": {
  "kernelspec": {
   "display_name": "Python 3",
   "language": "python",
   "name": "python3"
  },
  "language_info": {
   "codemirror_mode": {
    "name": "ipython",
    "version": 3
   },
   "file_extension": ".py",
   "mimetype": "text/x-python",
   "name": "python",
   "nbconvert_exporter": "python",
   "pygments_lexer": "ipython3",
   "version": "3.8.2-final"
  }
 },
 "nbformat": 4,
 "nbformat_minor": 4
}