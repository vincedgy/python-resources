{
 "cells": [
  {
   "cell_type": "code",
   "execution_count": 1,
   "metadata": {},
   "outputs": [],
   "source": [
    "import pandas as pd\n",
    "import numpy as np"
   ]
  },
  {
   "cell_type": "markdown",
   "metadata": {},
   "source": [
    "# Playground with a sample"
   ]
  },
  {
   "cell_type": "code",
   "execution_count": 2,
   "metadata": {},
   "outputs": [],
   "source": [
    "people = {\n",
    "    \"first\" : [\"Karine\", \"Jeanne\", \"Eve\", \"Maceo\", \"Willow\", \"Vincent\"\n",
    "              ],\n",
    "    \"last\" : [\"Dagoury\",\"Dagoury\",\"Dagoury\",\"Dagoury\",\"Dagoury\",\"Dagoury\"],\n",
    "    \"email\" : [\"karine.dagoury@gmail.com\", \"jeannedgy@gmail.com\", \"eveceleste@gmail.com\", \"\", \"\", \"vincent.dagoury@gmail.com\"],\n",
    "    \"birthYear\" : [ 1973, 2002, 2005, 2016, 2011, 1974 ]\n",
    "}"
   ]
  },
  {
   "cell_type": "code",
   "execution_count": 3,
   "metadata": {},
   "outputs": [],
   "source": [
    "df = pd.DataFrame(people)"
   ]
  },
  {
   "cell_type": "code",
   "execution_count": 4,
   "metadata": {},
   "outputs": [
    {
     "data": {
      "text/html": [
       "<div>\n",
       "<style scoped>\n",
       "    .dataframe tbody tr th:only-of-type {\n",
       "        vertical-align: middle;\n",
       "    }\n",
       "\n",
       "    .dataframe tbody tr th {\n",
       "        vertical-align: top;\n",
       "    }\n",
       "\n",
       "    .dataframe thead th {\n",
       "        text-align: right;\n",
       "    }\n",
       "</style>\n",
       "<table border=\"1\" class=\"dataframe\">\n",
       "  <thead>\n",
       "    <tr style=\"text-align: right;\">\n",
       "      <th></th>\n",
       "      <th>first</th>\n",
       "      <th>last</th>\n",
       "      <th>email</th>\n",
       "      <th>birthYear</th>\n",
       "    </tr>\n",
       "  </thead>\n",
       "  <tbody>\n",
       "    <tr>\n",
       "      <th>0</th>\n",
       "      <td>Karine</td>\n",
       "      <td>Dagoury</td>\n",
       "      <td>karine.dagoury@gmail.com</td>\n",
       "      <td>1973</td>\n",
       "    </tr>\n",
       "    <tr>\n",
       "      <th>1</th>\n",
       "      <td>Jeanne</td>\n",
       "      <td>Dagoury</td>\n",
       "      <td>jeannedgy@gmail.com</td>\n",
       "      <td>2002</td>\n",
       "    </tr>\n",
       "    <tr>\n",
       "      <th>2</th>\n",
       "      <td>Eve</td>\n",
       "      <td>Dagoury</td>\n",
       "      <td>eveceleste@gmail.com</td>\n",
       "      <td>2005</td>\n",
       "    </tr>\n",
       "    <tr>\n",
       "      <th>3</th>\n",
       "      <td>Maceo</td>\n",
       "      <td>Dagoury</td>\n",
       "      <td></td>\n",
       "      <td>2016</td>\n",
       "    </tr>\n",
       "    <tr>\n",
       "      <th>4</th>\n",
       "      <td>Willow</td>\n",
       "      <td>Dagoury</td>\n",
       "      <td></td>\n",
       "      <td>2011</td>\n",
       "    </tr>\n",
       "    <tr>\n",
       "      <th>5</th>\n",
       "      <td>Vincent</td>\n",
       "      <td>Dagoury</td>\n",
       "      <td>vincent.dagoury@gmail.com</td>\n",
       "      <td>1974</td>\n",
       "    </tr>\n",
       "  </tbody>\n",
       "</table>\n",
       "</div>"
      ],
      "text/plain": [
       "     first     last                      email  birthYear\n",
       "0   Karine  Dagoury   karine.dagoury@gmail.com       1973\n",
       "1   Jeanne  Dagoury        jeannedgy@gmail.com       2002\n",
       "2      Eve  Dagoury       eveceleste@gmail.com       2005\n",
       "3    Maceo  Dagoury                                  2016\n",
       "4   Willow  Dagoury                                  2011\n",
       "5  Vincent  Dagoury  vincent.dagoury@gmail.com       1974"
      ]
     },
     "execution_count": 4,
     "metadata": {},
     "output_type": "execute_result"
    }
   ],
   "source": [
    "df"
   ]
  },
  {
   "cell_type": "markdown",
   "metadata": {},
   "source": [
    "## Column definition from row dict"
   ]
  },
  {
   "cell_type": "code",
   "execution_count": 5,
   "metadata": {},
   "outputs": [
    {
     "data": {
      "text/plain": [
       "Index(['first', 'last', 'email', 'birthYear'], dtype='object')"
      ]
     },
     "execution_count": 5,
     "metadata": {},
     "output_type": "execute_result"
    }
   ],
   "source": [
    "df.columns"
   ]
  },
  {
   "cell_type": "markdown",
   "metadata": {},
   "source": [
    "## Renaming columns"
   ]
  },
  {
   "cell_type": "code",
   "execution_count": 6,
   "metadata": {},
   "outputs": [],
   "source": [
    "df.columns = ['first_name', 'last_name', 'email', 'year']"
   ]
  },
  {
   "cell_type": "code",
   "execution_count": 7,
   "metadata": {},
   "outputs": [
    {
     "data": {
      "text/html": [
       "<div>\n",
       "<style scoped>\n",
       "    .dataframe tbody tr th:only-of-type {\n",
       "        vertical-align: middle;\n",
       "    }\n",
       "\n",
       "    .dataframe tbody tr th {\n",
       "        vertical-align: top;\n",
       "    }\n",
       "\n",
       "    .dataframe thead th {\n",
       "        text-align: right;\n",
       "    }\n",
       "</style>\n",
       "<table border=\"1\" class=\"dataframe\">\n",
       "  <thead>\n",
       "    <tr style=\"text-align: right;\">\n",
       "      <th></th>\n",
       "      <th>first_name</th>\n",
       "      <th>last_name</th>\n",
       "      <th>email</th>\n",
       "      <th>year</th>\n",
       "    </tr>\n",
       "  </thead>\n",
       "  <tbody>\n",
       "    <tr>\n",
       "      <th>0</th>\n",
       "      <td>Karine</td>\n",
       "      <td>Dagoury</td>\n",
       "      <td>karine.dagoury@gmail.com</td>\n",
       "      <td>1973</td>\n",
       "    </tr>\n",
       "    <tr>\n",
       "      <th>1</th>\n",
       "      <td>Jeanne</td>\n",
       "      <td>Dagoury</td>\n",
       "      <td>jeannedgy@gmail.com</td>\n",
       "      <td>2002</td>\n",
       "    </tr>\n",
       "    <tr>\n",
       "      <th>2</th>\n",
       "      <td>Eve</td>\n",
       "      <td>Dagoury</td>\n",
       "      <td>eveceleste@gmail.com</td>\n",
       "      <td>2005</td>\n",
       "    </tr>\n",
       "    <tr>\n",
       "      <th>3</th>\n",
       "      <td>Maceo</td>\n",
       "      <td>Dagoury</td>\n",
       "      <td></td>\n",
       "      <td>2016</td>\n",
       "    </tr>\n",
       "    <tr>\n",
       "      <th>4</th>\n",
       "      <td>Willow</td>\n",
       "      <td>Dagoury</td>\n",
       "      <td></td>\n",
       "      <td>2011</td>\n",
       "    </tr>\n",
       "    <tr>\n",
       "      <th>5</th>\n",
       "      <td>Vincent</td>\n",
       "      <td>Dagoury</td>\n",
       "      <td>vincent.dagoury@gmail.com</td>\n",
       "      <td>1974</td>\n",
       "    </tr>\n",
       "  </tbody>\n",
       "</table>\n",
       "</div>"
      ],
      "text/plain": [
       "  first_name last_name                      email  year\n",
       "0     Karine   Dagoury   karine.dagoury@gmail.com  1973\n",
       "1     Jeanne   Dagoury        jeannedgy@gmail.com  2002\n",
       "2        Eve   Dagoury       eveceleste@gmail.com  2005\n",
       "3      Maceo   Dagoury                             2016\n",
       "4     Willow   Dagoury                             2011\n",
       "5    Vincent   Dagoury  vincent.dagoury@gmail.com  1974"
      ]
     },
     "execution_count": 7,
     "metadata": {},
     "output_type": "execute_result"
    }
   ],
   "source": [
    "df"
   ]
  },
  {
   "cell_type": "markdown",
   "metadata": {},
   "source": [
    "### Using a list comprehension"
   ]
  },
  {
   "cell_type": "code",
   "execution_count": 8,
   "metadata": {},
   "outputs": [],
   "source": [
    "df.columns = [ x.upper() for x in df.columns ]"
   ]
  },
  {
   "cell_type": "code",
   "execution_count": 9,
   "metadata": {},
   "outputs": [
    {
     "data": {
      "text/html": [
       "<div>\n",
       "<style scoped>\n",
       "    .dataframe tbody tr th:only-of-type {\n",
       "        vertical-align: middle;\n",
       "    }\n",
       "\n",
       "    .dataframe tbody tr th {\n",
       "        vertical-align: top;\n",
       "    }\n",
       "\n",
       "    .dataframe thead th {\n",
       "        text-align: right;\n",
       "    }\n",
       "</style>\n",
       "<table border=\"1\" class=\"dataframe\">\n",
       "  <thead>\n",
       "    <tr style=\"text-align: right;\">\n",
       "      <th></th>\n",
       "      <th>FIRST_NAME</th>\n",
       "      <th>LAST_NAME</th>\n",
       "      <th>EMAIL</th>\n",
       "      <th>YEAR</th>\n",
       "    </tr>\n",
       "  </thead>\n",
       "  <tbody>\n",
       "    <tr>\n",
       "      <th>0</th>\n",
       "      <td>Karine</td>\n",
       "      <td>Dagoury</td>\n",
       "      <td>karine.dagoury@gmail.com</td>\n",
       "      <td>1973</td>\n",
       "    </tr>\n",
       "    <tr>\n",
       "      <th>1</th>\n",
       "      <td>Jeanne</td>\n",
       "      <td>Dagoury</td>\n",
       "      <td>jeannedgy@gmail.com</td>\n",
       "      <td>2002</td>\n",
       "    </tr>\n",
       "    <tr>\n",
       "      <th>2</th>\n",
       "      <td>Eve</td>\n",
       "      <td>Dagoury</td>\n",
       "      <td>eveceleste@gmail.com</td>\n",
       "      <td>2005</td>\n",
       "    </tr>\n",
       "    <tr>\n",
       "      <th>3</th>\n",
       "      <td>Maceo</td>\n",
       "      <td>Dagoury</td>\n",
       "      <td></td>\n",
       "      <td>2016</td>\n",
       "    </tr>\n",
       "    <tr>\n",
       "      <th>4</th>\n",
       "      <td>Willow</td>\n",
       "      <td>Dagoury</td>\n",
       "      <td></td>\n",
       "      <td>2011</td>\n",
       "    </tr>\n",
       "    <tr>\n",
       "      <th>5</th>\n",
       "      <td>Vincent</td>\n",
       "      <td>Dagoury</td>\n",
       "      <td>vincent.dagoury@gmail.com</td>\n",
       "      <td>1974</td>\n",
       "    </tr>\n",
       "  </tbody>\n",
       "</table>\n",
       "</div>"
      ],
      "text/plain": [
       "  FIRST_NAME LAST_NAME                      EMAIL  YEAR\n",
       "0     Karine   Dagoury   karine.dagoury@gmail.com  1973\n",
       "1     Jeanne   Dagoury        jeannedgy@gmail.com  2002\n",
       "2        Eve   Dagoury       eveceleste@gmail.com  2005\n",
       "3      Maceo   Dagoury                             2016\n",
       "4     Willow   Dagoury                             2011\n",
       "5    Vincent   Dagoury  vincent.dagoury@gmail.com  1974"
      ]
     },
     "execution_count": 9,
     "metadata": {},
     "output_type": "execute_result"
    }
   ],
   "source": [
    "df"
   ]
  },
  {
   "cell_type": "markdown",
   "metadata": {},
   "source": [
    "### Using str.replace"
   ]
  },
  {
   "cell_type": "code",
   "execution_count": 10,
   "metadata": {},
   "outputs": [],
   "source": [
    "df.columns = df.columns.str.replace('_', ' ')"
   ]
  },
  {
   "cell_type": "code",
   "execution_count": 11,
   "metadata": {},
   "outputs": [
    {
     "data": {
      "text/html": [
       "<div>\n",
       "<style scoped>\n",
       "    .dataframe tbody tr th:only-of-type {\n",
       "        vertical-align: middle;\n",
       "    }\n",
       "\n",
       "    .dataframe tbody tr th {\n",
       "        vertical-align: top;\n",
       "    }\n",
       "\n",
       "    .dataframe thead th {\n",
       "        text-align: right;\n",
       "    }\n",
       "</style>\n",
       "<table border=\"1\" class=\"dataframe\">\n",
       "  <thead>\n",
       "    <tr style=\"text-align: right;\">\n",
       "      <th></th>\n",
       "      <th>FIRST NAME</th>\n",
       "      <th>LAST NAME</th>\n",
       "      <th>EMAIL</th>\n",
       "      <th>YEAR</th>\n",
       "    </tr>\n",
       "  </thead>\n",
       "  <tbody>\n",
       "    <tr>\n",
       "      <th>0</th>\n",
       "      <td>Karine</td>\n",
       "      <td>Dagoury</td>\n",
       "      <td>karine.dagoury@gmail.com</td>\n",
       "      <td>1973</td>\n",
       "    </tr>\n",
       "    <tr>\n",
       "      <th>1</th>\n",
       "      <td>Jeanne</td>\n",
       "      <td>Dagoury</td>\n",
       "      <td>jeannedgy@gmail.com</td>\n",
       "      <td>2002</td>\n",
       "    </tr>\n",
       "    <tr>\n",
       "      <th>2</th>\n",
       "      <td>Eve</td>\n",
       "      <td>Dagoury</td>\n",
       "      <td>eveceleste@gmail.com</td>\n",
       "      <td>2005</td>\n",
       "    </tr>\n",
       "    <tr>\n",
       "      <th>3</th>\n",
       "      <td>Maceo</td>\n",
       "      <td>Dagoury</td>\n",
       "      <td></td>\n",
       "      <td>2016</td>\n",
       "    </tr>\n",
       "    <tr>\n",
       "      <th>4</th>\n",
       "      <td>Willow</td>\n",
       "      <td>Dagoury</td>\n",
       "      <td></td>\n",
       "      <td>2011</td>\n",
       "    </tr>\n",
       "    <tr>\n",
       "      <th>5</th>\n",
       "      <td>Vincent</td>\n",
       "      <td>Dagoury</td>\n",
       "      <td>vincent.dagoury@gmail.com</td>\n",
       "      <td>1974</td>\n",
       "    </tr>\n",
       "  </tbody>\n",
       "</table>\n",
       "</div>"
      ],
      "text/plain": [
       "  FIRST NAME LAST NAME                      EMAIL  YEAR\n",
       "0     Karine   Dagoury   karine.dagoury@gmail.com  1973\n",
       "1     Jeanne   Dagoury        jeannedgy@gmail.com  2002\n",
       "2        Eve   Dagoury       eveceleste@gmail.com  2005\n",
       "3      Maceo   Dagoury                             2016\n",
       "4     Willow   Dagoury                             2011\n",
       "5    Vincent   Dagoury  vincent.dagoury@gmail.com  1974"
      ]
     },
     "execution_count": 11,
     "metadata": {},
     "output_type": "execute_result"
    }
   ],
   "source": [
    "df"
   ]
  },
  {
   "cell_type": "markdown",
   "metadata": {},
   "source": [
    "### Rename a single column in place"
   ]
  },
  {
   "cell_type": "code",
   "execution_count": 12,
   "metadata": {},
   "outputs": [
    {
     "data": {
      "text/html": [
       "<div>\n",
       "<style scoped>\n",
       "    .dataframe tbody tr th:only-of-type {\n",
       "        vertical-align: middle;\n",
       "    }\n",
       "\n",
       "    .dataframe tbody tr th {\n",
       "        vertical-align: top;\n",
       "    }\n",
       "\n",
       "    .dataframe thead th {\n",
       "        text-align: right;\n",
       "    }\n",
       "</style>\n",
       "<table border=\"1\" class=\"dataframe\">\n",
       "  <thead>\n",
       "    <tr style=\"text-align: right;\">\n",
       "      <th></th>\n",
       "      <th>first</th>\n",
       "      <th>LAST NAME</th>\n",
       "      <th>EMAIL</th>\n",
       "      <th>YEAR</th>\n",
       "    </tr>\n",
       "  </thead>\n",
       "  <tbody>\n",
       "    <tr>\n",
       "      <th>0</th>\n",
       "      <td>Karine</td>\n",
       "      <td>Dagoury</td>\n",
       "      <td>karine.dagoury@gmail.com</td>\n",
       "      <td>1973</td>\n",
       "    </tr>\n",
       "    <tr>\n",
       "      <th>1</th>\n",
       "      <td>Jeanne</td>\n",
       "      <td>Dagoury</td>\n",
       "      <td>jeannedgy@gmail.com</td>\n",
       "      <td>2002</td>\n",
       "    </tr>\n",
       "    <tr>\n",
       "      <th>2</th>\n",
       "      <td>Eve</td>\n",
       "      <td>Dagoury</td>\n",
       "      <td>eveceleste@gmail.com</td>\n",
       "      <td>2005</td>\n",
       "    </tr>\n",
       "    <tr>\n",
       "      <th>3</th>\n",
       "      <td>Maceo</td>\n",
       "      <td>Dagoury</td>\n",
       "      <td></td>\n",
       "      <td>2016</td>\n",
       "    </tr>\n",
       "    <tr>\n",
       "      <th>4</th>\n",
       "      <td>Willow</td>\n",
       "      <td>Dagoury</td>\n",
       "      <td></td>\n",
       "      <td>2011</td>\n",
       "    </tr>\n",
       "    <tr>\n",
       "      <th>5</th>\n",
       "      <td>Vincent</td>\n",
       "      <td>Dagoury</td>\n",
       "      <td>vincent.dagoury@gmail.com</td>\n",
       "      <td>1974</td>\n",
       "    </tr>\n",
       "  </tbody>\n",
       "</table>\n",
       "</div>"
      ],
      "text/plain": [
       "     first LAST NAME                      EMAIL  YEAR\n",
       "0   Karine   Dagoury   karine.dagoury@gmail.com  1973\n",
       "1   Jeanne   Dagoury        jeannedgy@gmail.com  2002\n",
       "2      Eve   Dagoury       eveceleste@gmail.com  2005\n",
       "3    Maceo   Dagoury                             2016\n",
       "4   Willow   Dagoury                             2011\n",
       "5  Vincent   Dagoury  vincent.dagoury@gmail.com  1974"
      ]
     },
     "execution_count": 12,
     "metadata": {},
     "output_type": "execute_result"
    }
   ],
   "source": [
    "df.rename(columns={'FIRST NAME': 'first'}, inplace=True)\n",
    "df"
   ]
  },
  {
   "cell_type": "markdown",
   "metadata": {},
   "source": [
    "## Updating rows"
   ]
  },
  {
   "cell_type": "markdown",
   "metadata": {},
   "source": [
    "### Updating one column of one filtered row"
   ]
  },
  {
   "cell_type": "code",
   "execution_count": 13,
   "metadata": {},
   "outputs": [],
   "source": [
    "df = pd.DataFrame(people)"
   ]
  },
  {
   "cell_type": "code",
   "execution_count": 14,
   "metadata": {},
   "outputs": [
    {
     "data": {
      "text/html": [
       "<div>\n",
       "<style scoped>\n",
       "    .dataframe tbody tr th:only-of-type {\n",
       "        vertical-align: middle;\n",
       "    }\n",
       "\n",
       "    .dataframe tbody tr th {\n",
       "        vertical-align: top;\n",
       "    }\n",
       "\n",
       "    .dataframe thead th {\n",
       "        text-align: right;\n",
       "    }\n",
       "</style>\n",
       "<table border=\"1\" class=\"dataframe\">\n",
       "  <thead>\n",
       "    <tr style=\"text-align: right;\">\n",
       "      <th></th>\n",
       "      <th>first</th>\n",
       "      <th>last</th>\n",
       "      <th>email</th>\n",
       "      <th>birthYear</th>\n",
       "    </tr>\n",
       "  </thead>\n",
       "  <tbody>\n",
       "    <tr>\n",
       "      <th>0</th>\n",
       "      <td>Edith</td>\n",
       "      <td>Dagoury</td>\n",
       "      <td>karine.dagoury@gmail.com</td>\n",
       "      <td>1973</td>\n",
       "    </tr>\n",
       "    <tr>\n",
       "      <th>1</th>\n",
       "      <td>Jeanne</td>\n",
       "      <td>Dagoury</td>\n",
       "      <td>jeannedgy@gmail.com</td>\n",
       "      <td>2002</td>\n",
       "    </tr>\n",
       "    <tr>\n",
       "      <th>2</th>\n",
       "      <td>Eve</td>\n",
       "      <td>Dagoury</td>\n",
       "      <td>eveceleste@gmail.com</td>\n",
       "      <td>2005</td>\n",
       "    </tr>\n",
       "    <tr>\n",
       "      <th>3</th>\n",
       "      <td>Maceo</td>\n",
       "      <td>Dagoury</td>\n",
       "      <td></td>\n",
       "      <td>2016</td>\n",
       "    </tr>\n",
       "    <tr>\n",
       "      <th>4</th>\n",
       "      <td>Willow</td>\n",
       "      <td>Dagoury</td>\n",
       "      <td></td>\n",
       "      <td>2011</td>\n",
       "    </tr>\n",
       "    <tr>\n",
       "      <th>5</th>\n",
       "      <td>Vincent</td>\n",
       "      <td>Dagoury</td>\n",
       "      <td>vincent.dagoury@gmail.com</td>\n",
       "      <td>1974</td>\n",
       "    </tr>\n",
       "  </tbody>\n",
       "</table>\n",
       "</div>"
      ],
      "text/plain": [
       "     first     last                      email  birthYear\n",
       "0    Edith  Dagoury   karine.dagoury@gmail.com       1973\n",
       "1   Jeanne  Dagoury        jeannedgy@gmail.com       2002\n",
       "2      Eve  Dagoury       eveceleste@gmail.com       2005\n",
       "3    Maceo  Dagoury                                  2016\n",
       "4   Willow  Dagoury                                  2011\n",
       "5  Vincent  Dagoury  vincent.dagoury@gmail.com       1974"
      ]
     },
     "execution_count": 14,
     "metadata": {},
     "output_type": "execute_result"
    }
   ],
   "source": [
    "df.loc[df['first'] == 'Karine', 'first']='Edith'\n",
    "df"
   ]
  },
  {
   "cell_type": "markdown",
   "metadata": {},
   "source": [
    "### Updating one column by a function"
   ]
  },
  {
   "cell_type": "code",
   "execution_count": 39,
   "metadata": {},
   "outputs": [
    {
     "data": {
      "text/html": [
       "<div>\n",
       "<style scoped>\n",
       "    .dataframe tbody tr th:only-of-type {\n",
       "        vertical-align: middle;\n",
       "    }\n",
       "\n",
       "    .dataframe tbody tr th {\n",
       "        vertical-align: top;\n",
       "    }\n",
       "\n",
       "    .dataframe thead th {\n",
       "        text-align: right;\n",
       "    }\n",
       "</style>\n",
       "<table border=\"1\" class=\"dataframe\">\n",
       "  <thead>\n",
       "    <tr style=\"text-align: right;\">\n",
       "      <th></th>\n",
       "      <th>first</th>\n",
       "      <th>last</th>\n",
       "      <th>email</th>\n",
       "      <th>birthYear</th>\n",
       "    </tr>\n",
       "  </thead>\n",
       "  <tbody>\n",
       "    <tr>\n",
       "      <th>0</th>\n",
       "      <td>Karine</td>\n",
       "      <td>DAGOURY</td>\n",
       "      <td>karine.dagoury@gmail.com</td>\n",
       "      <td>1973</td>\n",
       "    </tr>\n",
       "    <tr>\n",
       "      <th>1</th>\n",
       "      <td>Jeanne</td>\n",
       "      <td>DAGOURY</td>\n",
       "      <td>jeannedgy@gmail.com</td>\n",
       "      <td>2002</td>\n",
       "    </tr>\n",
       "    <tr>\n",
       "      <th>2</th>\n",
       "      <td>Eve</td>\n",
       "      <td>DAGOURY</td>\n",
       "      <td>eveceleste@gmail.com</td>\n",
       "      <td>2005</td>\n",
       "    </tr>\n",
       "    <tr>\n",
       "      <th>3</th>\n",
       "      <td>Maceo</td>\n",
       "      <td>DAGOURY</td>\n",
       "      <td></td>\n",
       "      <td>2016</td>\n",
       "    </tr>\n",
       "    <tr>\n",
       "      <th>4</th>\n",
       "      <td>Willow</td>\n",
       "      <td>DAGOURY</td>\n",
       "      <td></td>\n",
       "      <td>2011</td>\n",
       "    </tr>\n",
       "    <tr>\n",
       "      <th>5</th>\n",
       "      <td>Vincent</td>\n",
       "      <td>DAGOURY</td>\n",
       "      <td>vincent.dagoury@gmail.com</td>\n",
       "      <td>1974</td>\n",
       "    </tr>\n",
       "  </tbody>\n",
       "</table>\n",
       "</div>"
      ],
      "text/plain": [
       "     first     last                      email  birthYear\n",
       "0   Karine  DAGOURY   karine.dagoury@gmail.com       1973\n",
       "1   Jeanne  DAGOURY        jeannedgy@gmail.com       2002\n",
       "2      Eve  DAGOURY       eveceleste@gmail.com       2005\n",
       "3    Maceo  DAGOURY                                  2016\n",
       "4   Willow  DAGOURY                                  2011\n",
       "5  Vincent  DAGOURY  vincent.dagoury@gmail.com       1974"
      ]
     },
     "execution_count": 39,
     "metadata": {},
     "output_type": "execute_result"
    }
   ],
   "source": [
    "df['last'] = df['last'].str.upper()\n",
    "df"
   ]
  },
  {
   "cell_type": "code",
   "execution_count": 16,
   "metadata": {},
   "outputs": [
    {
     "data": {
      "text/plain": [
       "0    24\n",
       "1    19\n",
       "2    20\n",
       "3     0\n",
       "4     0\n",
       "5    25\n",
       "Name: email, dtype: int64"
      ]
     },
     "execution_count": 16,
     "metadata": {},
     "output_type": "execute_result"
    }
   ],
   "source": [
    "df['email'].apply(len)"
   ]
  },
  {
   "cell_type": "markdown",
   "metadata": {},
   "source": [
    "## Updating data with 'Apply'"
   ]
  },
  {
   "cell_type": "markdown",
   "metadata": {},
   "source": [
    "### Using a function"
   ]
  },
  {
   "cell_type": "code",
   "execution_count": 17,
   "metadata": {},
   "outputs": [],
   "source": [
    "# Define a function that verify an email\n",
    "def verify_email(email):\n",
    "  return email.upper()"
   ]
  },
  {
   "cell_type": "code",
   "execution_count": 18,
   "metadata": {},
   "outputs": [
    {
     "data": {
      "text/html": [
       "<div>\n",
       "<style scoped>\n",
       "    .dataframe tbody tr th:only-of-type {\n",
       "        vertical-align: middle;\n",
       "    }\n",
       "\n",
       "    .dataframe tbody tr th {\n",
       "        vertical-align: top;\n",
       "    }\n",
       "\n",
       "    .dataframe thead th {\n",
       "        text-align: right;\n",
       "    }\n",
       "</style>\n",
       "<table border=\"1\" class=\"dataframe\">\n",
       "  <thead>\n",
       "    <tr style=\"text-align: right;\">\n",
       "      <th></th>\n",
       "      <th>first</th>\n",
       "      <th>last</th>\n",
       "      <th>email</th>\n",
       "      <th>birthYear</th>\n",
       "      <th>verified</th>\n",
       "    </tr>\n",
       "  </thead>\n",
       "  <tbody>\n",
       "    <tr>\n",
       "      <th>0</th>\n",
       "      <td>Edith</td>\n",
       "      <td>DAGOURY</td>\n",
       "      <td>karine.dagoury@gmail.com</td>\n",
       "      <td>1973</td>\n",
       "      <td>KARINE.DAGOURY@GMAIL.COM</td>\n",
       "    </tr>\n",
       "    <tr>\n",
       "      <th>1</th>\n",
       "      <td>Jeanne</td>\n",
       "      <td>DAGOURY</td>\n",
       "      <td>jeannedgy@gmail.com</td>\n",
       "      <td>2002</td>\n",
       "      <td>JEANNEDGY@GMAIL.COM</td>\n",
       "    </tr>\n",
       "    <tr>\n",
       "      <th>2</th>\n",
       "      <td>Eve</td>\n",
       "      <td>DAGOURY</td>\n",
       "      <td>eveceleste@gmail.com</td>\n",
       "      <td>2005</td>\n",
       "      <td>EVECELESTE@GMAIL.COM</td>\n",
       "    </tr>\n",
       "    <tr>\n",
       "      <th>3</th>\n",
       "      <td>Maceo</td>\n",
       "      <td>DAGOURY</td>\n",
       "      <td></td>\n",
       "      <td>2016</td>\n",
       "      <td></td>\n",
       "    </tr>\n",
       "    <tr>\n",
       "      <th>4</th>\n",
       "      <td>Willow</td>\n",
       "      <td>DAGOURY</td>\n",
       "      <td></td>\n",
       "      <td>2011</td>\n",
       "      <td></td>\n",
       "    </tr>\n",
       "    <tr>\n",
       "      <th>5</th>\n",
       "      <td>Vincent</td>\n",
       "      <td>DAGOURY</td>\n",
       "      <td>vincent.dagoury@gmail.com</td>\n",
       "      <td>1974</td>\n",
       "      <td>VINCENT.DAGOURY@GMAIL.COM</td>\n",
       "    </tr>\n",
       "  </tbody>\n",
       "</table>\n",
       "</div>"
      ],
      "text/plain": [
       "     first     last                      email  birthYear  \\\n",
       "0    Edith  DAGOURY   karine.dagoury@gmail.com       1973   \n",
       "1   Jeanne  DAGOURY        jeannedgy@gmail.com       2002   \n",
       "2      Eve  DAGOURY       eveceleste@gmail.com       2005   \n",
       "3    Maceo  DAGOURY                                  2016   \n",
       "4   Willow  DAGOURY                                  2011   \n",
       "5  Vincent  DAGOURY  vincent.dagoury@gmail.com       1974   \n",
       "\n",
       "                    verified  \n",
       "0   KARINE.DAGOURY@GMAIL.COM  \n",
       "1        JEANNEDGY@GMAIL.COM  \n",
       "2       EVECELESTE@GMAIL.COM  \n",
       "3                             \n",
       "4                             \n",
       "5  VINCENT.DAGOURY@GMAIL.COM  "
      ]
     },
     "execution_count": 18,
     "metadata": {},
     "output_type": "execute_result"
    }
   ],
   "source": [
    "# and add a column 'verified' based on the result\n",
    "df['verified'] = df['email'].apply(verify_email)\n",
    "df"
   ]
  },
  {
   "cell_type": "markdown",
   "metadata": {},
   "source": [
    "### Using a lambda"
   ]
  },
  {
   "cell_type": "code",
   "execution_count": 19,
   "metadata": {},
   "outputs": [
    {
     "data": {
      "text/html": [
       "<div>\n",
       "<style scoped>\n",
       "    .dataframe tbody tr th:only-of-type {\n",
       "        vertical-align: middle;\n",
       "    }\n",
       "\n",
       "    .dataframe tbody tr th {\n",
       "        vertical-align: top;\n",
       "    }\n",
       "\n",
       "    .dataframe thead th {\n",
       "        text-align: right;\n",
       "    }\n",
       "</style>\n",
       "<table border=\"1\" class=\"dataframe\">\n",
       "  <thead>\n",
       "    <tr style=\"text-align: right;\">\n",
       "      <th></th>\n",
       "      <th>first</th>\n",
       "      <th>last</th>\n",
       "      <th>email</th>\n",
       "      <th>birthYear</th>\n",
       "      <th>verified</th>\n",
       "      <th>lower_last</th>\n",
       "    </tr>\n",
       "  </thead>\n",
       "  <tbody>\n",
       "    <tr>\n",
       "      <th>0</th>\n",
       "      <td>Edith</td>\n",
       "      <td>DAGOURY</td>\n",
       "      <td>karine.dagoury@gmail.com</td>\n",
       "      <td>1973</td>\n",
       "      <td>KARINE.DAGOURY@GMAIL.COM</td>\n",
       "      <td>dagoury</td>\n",
       "    </tr>\n",
       "    <tr>\n",
       "      <th>1</th>\n",
       "      <td>Jeanne</td>\n",
       "      <td>DAGOURY</td>\n",
       "      <td>jeannedgy@gmail.com</td>\n",
       "      <td>2002</td>\n",
       "      <td>JEANNEDGY@GMAIL.COM</td>\n",
       "      <td>dagoury</td>\n",
       "    </tr>\n",
       "    <tr>\n",
       "      <th>2</th>\n",
       "      <td>Eve</td>\n",
       "      <td>DAGOURY</td>\n",
       "      <td>eveceleste@gmail.com</td>\n",
       "      <td>2005</td>\n",
       "      <td>EVECELESTE@GMAIL.COM</td>\n",
       "      <td>dagoury</td>\n",
       "    </tr>\n",
       "    <tr>\n",
       "      <th>3</th>\n",
       "      <td>Maceo</td>\n",
       "      <td>DAGOURY</td>\n",
       "      <td></td>\n",
       "      <td>2016</td>\n",
       "      <td></td>\n",
       "      <td>dagoury</td>\n",
       "    </tr>\n",
       "    <tr>\n",
       "      <th>4</th>\n",
       "      <td>Willow</td>\n",
       "      <td>DAGOURY</td>\n",
       "      <td></td>\n",
       "      <td>2011</td>\n",
       "      <td></td>\n",
       "      <td>dagoury</td>\n",
       "    </tr>\n",
       "    <tr>\n",
       "      <th>5</th>\n",
       "      <td>Vincent</td>\n",
       "      <td>DAGOURY</td>\n",
       "      <td>vincent.dagoury@gmail.com</td>\n",
       "      <td>1974</td>\n",
       "      <td>VINCENT.DAGOURY@GMAIL.COM</td>\n",
       "      <td>dagoury</td>\n",
       "    </tr>\n",
       "  </tbody>\n",
       "</table>\n",
       "</div>"
      ],
      "text/plain": [
       "     first     last                      email  birthYear  \\\n",
       "0    Edith  DAGOURY   karine.dagoury@gmail.com       1973   \n",
       "1   Jeanne  DAGOURY        jeannedgy@gmail.com       2002   \n",
       "2      Eve  DAGOURY       eveceleste@gmail.com       2005   \n",
       "3    Maceo  DAGOURY                                  2016   \n",
       "4   Willow  DAGOURY                                  2011   \n",
       "5  Vincent  DAGOURY  vincent.dagoury@gmail.com       1974   \n",
       "\n",
       "                    verified lower_last  \n",
       "0   KARINE.DAGOURY@GMAIL.COM    dagoury  \n",
       "1        JEANNEDGY@GMAIL.COM    dagoury  \n",
       "2       EVECELESTE@GMAIL.COM    dagoury  \n",
       "3                               dagoury  \n",
       "4                               dagoury  \n",
       "5  VINCENT.DAGOURY@GMAIL.COM    dagoury  "
      ]
     },
     "execution_count": 19,
     "metadata": {},
     "output_type": "execute_result"
    }
   ],
   "source": [
    "df['lower_last'] = df['last'].apply(lambda x: x.lower())\n",
    "df"
   ]
  },
  {
   "cell_type": "markdown",
   "metadata": {},
   "source": [
    "### Using a list comprehension"
   ]
  },
  {
   "cell_type": "code",
   "execution_count": 20,
   "metadata": {},
   "outputs": [
    {
     "data": {
      "text/html": [
       "<div>\n",
       "<style scoped>\n",
       "    .dataframe tbody tr th:only-of-type {\n",
       "        vertical-align: middle;\n",
       "    }\n",
       "\n",
       "    .dataframe tbody tr th {\n",
       "        vertical-align: top;\n",
       "    }\n",
       "\n",
       "    .dataframe thead th {\n",
       "        text-align: right;\n",
       "    }\n",
       "</style>\n",
       "<table border=\"1\" class=\"dataframe\">\n",
       "  <thead>\n",
       "    <tr style=\"text-align: right;\">\n",
       "      <th></th>\n",
       "      <th>first</th>\n",
       "      <th>last</th>\n",
       "      <th>email</th>\n",
       "      <th>birthYear</th>\n",
       "      <th>verified</th>\n",
       "      <th>lower_last</th>\n",
       "      <th>lower_first</th>\n",
       "    </tr>\n",
       "  </thead>\n",
       "  <tbody>\n",
       "    <tr>\n",
       "      <th>0</th>\n",
       "      <td>Edith</td>\n",
       "      <td>DAGOURY</td>\n",
       "      <td>karine.dagoury@gmail.com</td>\n",
       "      <td>1973</td>\n",
       "      <td>KARINE.DAGOURY@GMAIL.COM</td>\n",
       "      <td>dagoury</td>\n",
       "      <td>edith</td>\n",
       "    </tr>\n",
       "    <tr>\n",
       "      <th>1</th>\n",
       "      <td>Jeanne</td>\n",
       "      <td>DAGOURY</td>\n",
       "      <td>jeannedgy@gmail.com</td>\n",
       "      <td>2002</td>\n",
       "      <td>JEANNEDGY@GMAIL.COM</td>\n",
       "      <td>dagoury</td>\n",
       "      <td>jeanne</td>\n",
       "    </tr>\n",
       "    <tr>\n",
       "      <th>2</th>\n",
       "      <td>Eve</td>\n",
       "      <td>DAGOURY</td>\n",
       "      <td>eveceleste@gmail.com</td>\n",
       "      <td>2005</td>\n",
       "      <td>EVECELESTE@GMAIL.COM</td>\n",
       "      <td>dagoury</td>\n",
       "      <td>eve</td>\n",
       "    </tr>\n",
       "    <tr>\n",
       "      <th>3</th>\n",
       "      <td>Maceo</td>\n",
       "      <td>DAGOURY</td>\n",
       "      <td></td>\n",
       "      <td>2016</td>\n",
       "      <td></td>\n",
       "      <td>dagoury</td>\n",
       "      <td>maceo</td>\n",
       "    </tr>\n",
       "    <tr>\n",
       "      <th>4</th>\n",
       "      <td>Willow</td>\n",
       "      <td>DAGOURY</td>\n",
       "      <td></td>\n",
       "      <td>2011</td>\n",
       "      <td></td>\n",
       "      <td>dagoury</td>\n",
       "      <td>willow</td>\n",
       "    </tr>\n",
       "    <tr>\n",
       "      <th>5</th>\n",
       "      <td>Vincent</td>\n",
       "      <td>DAGOURY</td>\n",
       "      <td>vincent.dagoury@gmail.com</td>\n",
       "      <td>1974</td>\n",
       "      <td>VINCENT.DAGOURY@GMAIL.COM</td>\n",
       "      <td>dagoury</td>\n",
       "      <td>vincent</td>\n",
       "    </tr>\n",
       "  </tbody>\n",
       "</table>\n",
       "</div>"
      ],
      "text/plain": [
       "     first     last                      email  birthYear  \\\n",
       "0    Edith  DAGOURY   karine.dagoury@gmail.com       1973   \n",
       "1   Jeanne  DAGOURY        jeannedgy@gmail.com       2002   \n",
       "2      Eve  DAGOURY       eveceleste@gmail.com       2005   \n",
       "3    Maceo  DAGOURY                                  2016   \n",
       "4   Willow  DAGOURY                                  2011   \n",
       "5  Vincent  DAGOURY  vincent.dagoury@gmail.com       1974   \n",
       "\n",
       "                    verified lower_last lower_first  \n",
       "0   KARINE.DAGOURY@GMAIL.COM    dagoury       edith  \n",
       "1        JEANNEDGY@GMAIL.COM    dagoury      jeanne  \n",
       "2       EVECELESTE@GMAIL.COM    dagoury         eve  \n",
       "3                               dagoury       maceo  \n",
       "4                               dagoury      willow  \n",
       "5  VINCENT.DAGOURY@GMAIL.COM    dagoury     vincent  "
      ]
     },
     "execution_count": 20,
     "metadata": {},
     "output_type": "execute_result"
    }
   ],
   "source": [
    "df['lower_first'] = [ x.lower() for x in df['first'] ]\n",
    "df"
   ]
  },
  {
   "cell_type": "markdown",
   "metadata": {},
   "source": [
    "### Add uuid for index"
   ]
  },
  {
   "cell_type": "code",
   "execution_count": 21,
   "metadata": {},
   "outputs": [],
   "source": [
    "import uuid"
   ]
  },
  {
   "cell_type": "code",
   "execution_count": 22,
   "metadata": {},
   "outputs": [
    {
     "data": {
      "text/html": [
       "<div>\n",
       "<style scoped>\n",
       "    .dataframe tbody tr th:only-of-type {\n",
       "        vertical-align: middle;\n",
       "    }\n",
       "\n",
       "    .dataframe tbody tr th {\n",
       "        vertical-align: top;\n",
       "    }\n",
       "\n",
       "    .dataframe thead th {\n",
       "        text-align: right;\n",
       "    }\n",
       "</style>\n",
       "<table border=\"1\" class=\"dataframe\">\n",
       "  <thead>\n",
       "    <tr style=\"text-align: right;\">\n",
       "      <th></th>\n",
       "      <th>first</th>\n",
       "      <th>last</th>\n",
       "      <th>email</th>\n",
       "      <th>birthYear</th>\n",
       "    </tr>\n",
       "    <tr>\n",
       "      <th>uuid</th>\n",
       "      <th></th>\n",
       "      <th></th>\n",
       "      <th></th>\n",
       "      <th></th>\n",
       "    </tr>\n",
       "  </thead>\n",
       "  <tbody>\n",
       "    <tr>\n",
       "      <th>c8c97215-6795-40cb-8d10-f1264d50335f</th>\n",
       "      <td>Karine</td>\n",
       "      <td>Dagoury</td>\n",
       "      <td>karine.dagoury@gmail.com</td>\n",
       "      <td>1973</td>\n",
       "    </tr>\n",
       "    <tr>\n",
       "      <th>ae114d06-9b01-4dd6-8765-0a30415a507e</th>\n",
       "      <td>Jeanne</td>\n",
       "      <td>Dagoury</td>\n",
       "      <td>jeannedgy@gmail.com</td>\n",
       "      <td>2002</td>\n",
       "    </tr>\n",
       "    <tr>\n",
       "      <th>988f3dfc-d233-44e9-8549-869e72b2e5f8</th>\n",
       "      <td>Eve</td>\n",
       "      <td>Dagoury</td>\n",
       "      <td>eveceleste@gmail.com</td>\n",
       "      <td>2005</td>\n",
       "    </tr>\n",
       "    <tr>\n",
       "      <th>e282d65d-e632-456b-83cd-866aea32fb63</th>\n",
       "      <td>Maceo</td>\n",
       "      <td>Dagoury</td>\n",
       "      <td></td>\n",
       "      <td>2016</td>\n",
       "    </tr>\n",
       "    <tr>\n",
       "      <th>16ae2870-1da1-4b2c-8ebc-6067c0015aad</th>\n",
       "      <td>Willow</td>\n",
       "      <td>Dagoury</td>\n",
       "      <td></td>\n",
       "      <td>2011</td>\n",
       "    </tr>\n",
       "    <tr>\n",
       "      <th>3a480673-1d1c-44e3-80e5-bcd39597b352</th>\n",
       "      <td>Vincent</td>\n",
       "      <td>Dagoury</td>\n",
       "      <td>vincent.dagoury@gmail.com</td>\n",
       "      <td>1974</td>\n",
       "    </tr>\n",
       "  </tbody>\n",
       "</table>\n",
       "</div>"
      ],
      "text/plain": [
       "                                        first     last  \\\n",
       "uuid                                                     \n",
       "c8c97215-6795-40cb-8d10-f1264d50335f   Karine  Dagoury   \n",
       "ae114d06-9b01-4dd6-8765-0a30415a507e   Jeanne  Dagoury   \n",
       "988f3dfc-d233-44e9-8549-869e72b2e5f8      Eve  Dagoury   \n",
       "e282d65d-e632-456b-83cd-866aea32fb63    Maceo  Dagoury   \n",
       "16ae2870-1da1-4b2c-8ebc-6067c0015aad   Willow  Dagoury   \n",
       "3a480673-1d1c-44e3-80e5-bcd39597b352  Vincent  Dagoury   \n",
       "\n",
       "                                                          email  birthYear  \n",
       "uuid                                                                        \n",
       "c8c97215-6795-40cb-8d10-f1264d50335f   karine.dagoury@gmail.com       1973  \n",
       "ae114d06-9b01-4dd6-8765-0a30415a507e        jeannedgy@gmail.com       2002  \n",
       "988f3dfc-d233-44e9-8549-869e72b2e5f8       eveceleste@gmail.com       2005  \n",
       "e282d65d-e632-456b-83cd-866aea32fb63                                  2016  \n",
       "16ae2870-1da1-4b2c-8ebc-6067c0015aad                                  2011  \n",
       "3a480673-1d1c-44e3-80e5-bcd39597b352  vincent.dagoury@gmail.com       1974  "
      ]
     },
     "execution_count": 22,
     "metadata": {},
     "output_type": "execute_result"
    }
   ],
   "source": [
    "df = pd.DataFrame(people)\n",
    "df['uuid'] = df.index.to_series().map(lambda x: uuid.uuid4())\n",
    "df.set_index(keys='uuid', inplace=True)\n",
    "df"
   ]
  },
  {
   "cell_type": "markdown",
   "metadata": {},
   "source": [
    "# Compute with DataFrame"
   ]
  },
  {
   "cell_type": "code",
   "execution_count": 40,
   "metadata": {},
   "outputs": [
    {
     "data": {
      "text/plain": [
       "0    24\n",
       "1    19\n",
       "2    20\n",
       "3     0\n",
       "4     0\n",
       "5    25\n",
       "Name: email, dtype: int64"
      ]
     },
     "execution_count": 40,
     "metadata": {},
     "output_type": "execute_result"
    }
   ],
   "source": [
    "# Get the len of all emails\n",
    "df = pd.DataFrame(people)\n",
    "df['email'].apply(len)"
   ]
  },
  {
   "cell_type": "code",
   "execution_count": 41,
   "metadata": {},
   "outputs": [
    {
     "data": {
      "text/html": [
       "<div>\n",
       "<style scoped>\n",
       "    .dataframe tbody tr th:only-of-type {\n",
       "        vertical-align: middle;\n",
       "    }\n",
       "\n",
       "    .dataframe tbody tr th {\n",
       "        vertical-align: top;\n",
       "    }\n",
       "\n",
       "    .dataframe thead th {\n",
       "        text-align: right;\n",
       "    }\n",
       "</style>\n",
       "<table border=\"1\" class=\"dataframe\">\n",
       "  <thead>\n",
       "    <tr style=\"text-align: right;\">\n",
       "      <th></th>\n",
       "      <th>first</th>\n",
       "      <th>last</th>\n",
       "      <th>email</th>\n",
       "      <th>birthYear</th>\n",
       "      <th>age</th>\n",
       "    </tr>\n",
       "  </thead>\n",
       "  <tbody>\n",
       "    <tr>\n",
       "      <th>0</th>\n",
       "      <td>Karine</td>\n",
       "      <td>Dagoury</td>\n",
       "      <td>karine.dagoury@gmail.com</td>\n",
       "      <td>1973</td>\n",
       "      <td>47</td>\n",
       "    </tr>\n",
       "    <tr>\n",
       "      <th>1</th>\n",
       "      <td>Jeanne</td>\n",
       "      <td>Dagoury</td>\n",
       "      <td>jeannedgy@gmail.com</td>\n",
       "      <td>2002</td>\n",
       "      <td>18</td>\n",
       "    </tr>\n",
       "    <tr>\n",
       "      <th>2</th>\n",
       "      <td>Eve</td>\n",
       "      <td>Dagoury</td>\n",
       "      <td>eveceleste@gmail.com</td>\n",
       "      <td>2005</td>\n",
       "      <td>15</td>\n",
       "    </tr>\n",
       "    <tr>\n",
       "      <th>3</th>\n",
       "      <td>Maceo</td>\n",
       "      <td>Dagoury</td>\n",
       "      <td></td>\n",
       "      <td>2016</td>\n",
       "      <td>4</td>\n",
       "    </tr>\n",
       "    <tr>\n",
       "      <th>4</th>\n",
       "      <td>Willow</td>\n",
       "      <td>Dagoury</td>\n",
       "      <td></td>\n",
       "      <td>2011</td>\n",
       "      <td>9</td>\n",
       "    </tr>\n",
       "    <tr>\n",
       "      <th>5</th>\n",
       "      <td>Vincent</td>\n",
       "      <td>Dagoury</td>\n",
       "      <td>vincent.dagoury@gmail.com</td>\n",
       "      <td>1974</td>\n",
       "      <td>46</td>\n",
       "    </tr>\n",
       "  </tbody>\n",
       "</table>\n",
       "</div>"
      ],
      "text/plain": [
       "     first     last                      email  birthYear  age\n",
       "0   Karine  Dagoury   karine.dagoury@gmail.com       1973   47\n",
       "1   Jeanne  Dagoury        jeannedgy@gmail.com       2002   18\n",
       "2      Eve  Dagoury       eveceleste@gmail.com       2005   15\n",
       "3    Maceo  Dagoury                                  2016    4\n",
       "4   Willow  Dagoury                                  2011    9\n",
       "5  Vincent  Dagoury  vincent.dagoury@gmail.com       1974   46"
      ]
     },
     "execution_count": 41,
     "metadata": {},
     "output_type": "execute_result"
    }
   ],
   "source": [
    "# Using a lambda, get the age of each people\n",
    "import datetime\n",
    "df['age'] = df['birthYear'].apply(lambda x: datetime.datetime.now().year - x)\n",
    "df"
   ]
  },
  {
   "cell_type": "code",
   "execution_count": 42,
   "metadata": {},
   "outputs": [
    {
     "data": {
      "text/plain": [
       "0    5\n",
       "1    5\n",
       "2    5\n",
       "3    5\n",
       "4    5\n",
       "5    5\n",
       "dtype: int64"
      ]
     },
     "execution_count": 42,
     "metadata": {},
     "output_type": "execute_result"
    }
   ],
   "source": [
    "# Number of columns per row\n",
    "df.apply(len, axis='columns')"
   ]
  },
  {
   "cell_type": "code",
   "execution_count": 43,
   "metadata": {},
   "outputs": [
    {
     "data": {
      "text/plain": [
       "first        6\n",
       "last         6\n",
       "email        6\n",
       "birthYear    6\n",
       "age          6\n",
       "dtype: int64"
      ]
     },
     "execution_count": 43,
     "metadata": {},
     "output_type": "execute_result"
    }
   ],
   "source": [
    "# Number of rows per column\n",
    "df.apply(len, axis='rows')"
   ]
  },
  {
   "cell_type": "code",
   "execution_count": 27,
   "metadata": {},
   "outputs": [
    {
     "data": {
      "text/plain": [
       "(6, 5)"
      ]
     },
     "execution_count": 27,
     "metadata": {},
     "output_type": "execute_result"
    }
   ],
   "source": [
    "df.shape"
   ]
  },
  {
   "cell_type": "code",
   "execution_count": 28,
   "metadata": {},
   "outputs": [
    {
     "data": {
      "text/plain": [
       "first            Eve\n",
       "last         Dagoury\n",
       "email               \n",
       "birthYear       1973\n",
       "age                4\n",
       "dtype: object"
      ]
     },
     "execution_count": 28,
     "metadata": {},
     "output_type": "execute_result"
    }
   ],
   "source": [
    "# Determine the minimum values of a Series through all columns\n",
    "df.apply(pd.Series.min)"
   ]
  },
  {
   "cell_type": "code",
   "execution_count": 29,
   "metadata": {},
   "outputs": [
    {
     "data": {
      "text/plain": [
       "first                           Willow\n",
       "last                           Dagoury\n",
       "email        vincent.dagoury@gmail.com\n",
       "birthYear                         2016\n",
       "age                                 47\n",
       "dtype: object"
      ]
     },
     "execution_count": 29,
     "metadata": {},
     "output_type": "execute_result"
    }
   ],
   "source": [
    "# Same with max\n",
    "df.apply(pd.Series.max)"
   ]
  },
  {
   "cell_type": "code",
   "execution_count": 30,
   "metadata": {},
   "outputs": [
    {
     "data": {
      "text/plain": [
       "first            Eve\n",
       "last         Dagoury\n",
       "email               \n",
       "birthYear       1973\n",
       "age                4\n",
       "dtype: object"
      ]
     },
     "execution_count": 30,
     "metadata": {},
     "output_type": "execute_result"
    }
   ],
   "source": [
    "# Using lambda\n",
    "df.apply(lambda x: x.min())"
   ]
  },
  {
   "cell_type": "markdown",
   "metadata": {},
   "source": [
    "# Applymap"
   ]
  },
  {
   "cell_type": "code",
   "execution_count": 44,
   "metadata": {},
   "outputs": [
    {
     "data": {
      "text/html": [
       "<div>\n",
       "<style scoped>\n",
       "    .dataframe tbody tr th:only-of-type {\n",
       "        vertical-align: middle;\n",
       "    }\n",
       "\n",
       "    .dataframe tbody tr th {\n",
       "        vertical-align: top;\n",
       "    }\n",
       "\n",
       "    .dataframe thead th {\n",
       "        text-align: right;\n",
       "    }\n",
       "</style>\n",
       "<table border=\"1\" class=\"dataframe\">\n",
       "  <thead>\n",
       "    <tr style=\"text-align: right;\">\n",
       "      <th></th>\n",
       "      <th>first</th>\n",
       "      <th>last</th>\n",
       "      <th>email</th>\n",
       "      <th>birthYear</th>\n",
       "    </tr>\n",
       "  </thead>\n",
       "  <tbody>\n",
       "    <tr>\n",
       "      <th>0</th>\n",
       "      <td>6</td>\n",
       "      <td>7</td>\n",
       "      <td>24</td>\n",
       "      <td></td>\n",
       "    </tr>\n",
       "    <tr>\n",
       "      <th>1</th>\n",
       "      <td>6</td>\n",
       "      <td>7</td>\n",
       "      <td>19</td>\n",
       "      <td></td>\n",
       "    </tr>\n",
       "    <tr>\n",
       "      <th>2</th>\n",
       "      <td>3</td>\n",
       "      <td>7</td>\n",
       "      <td>20</td>\n",
       "      <td></td>\n",
       "    </tr>\n",
       "    <tr>\n",
       "      <th>3</th>\n",
       "      <td>5</td>\n",
       "      <td>7</td>\n",
       "      <td>0</td>\n",
       "      <td></td>\n",
       "    </tr>\n",
       "    <tr>\n",
       "      <th>4</th>\n",
       "      <td>6</td>\n",
       "      <td>7</td>\n",
       "      <td>0</td>\n",
       "      <td></td>\n",
       "    </tr>\n",
       "    <tr>\n",
       "      <th>5</th>\n",
       "      <td>7</td>\n",
       "      <td>7</td>\n",
       "      <td>25</td>\n",
       "      <td></td>\n",
       "    </tr>\n",
       "  </tbody>\n",
       "</table>\n",
       "</div>"
      ],
      "text/plain": [
       "   first  last  email birthYear\n",
       "0      6     7     24          \n",
       "1      6     7     19          \n",
       "2      3     7     20          \n",
       "3      5     7      0          \n",
       "4      6     7      0          \n",
       "5      7     7     25          "
      ]
     },
     "execution_count": 44,
     "metadata": {},
     "output_type": "execute_result"
    }
   ],
   "source": [
    "# Apply on each value a lambda function\n",
    "# wich verify type of the value\n",
    "df = pd.DataFrame(people)\n",
    "df.applymap(lambda x: len(x) if isinstance(x,str) else '')"
   ]
  },
  {
   "cell_type": "markdown",
   "metadata": {},
   "source": [
    "# Map"
   ]
  },
  {
   "cell_type": "code",
   "execution_count": 32,
   "metadata": {},
   "outputs": [
    {
     "data": {
      "text/plain": [
       "0    Edith\n",
       "1      NaN\n",
       "2      NaN\n",
       "3      NaN\n",
       "4      NaN\n",
       "5      NaN\n",
       "Name: first, dtype: object"
      ]
     },
     "execution_count": 32,
     "metadata": {},
     "output_type": "execute_result"
    }
   ],
   "source": [
    "# Map substitutes value with other\n",
    "df = pd.DataFrame(people)\n",
    "df['first'].map({'Karine':'Edith'})"
   ]
  },
  {
   "cell_type": "code",
   "execution_count": 33,
   "metadata": {},
   "outputs": [],
   "source": [
    "df2 = df['first'].replace({'Karine':'Edith'})"
   ]
  },
  {
   "cell_type": "code",
   "execution_count": 34,
   "metadata": {},
   "outputs": [
    {
     "data": {
      "text/plain": [
       "0      Edith\n",
       "1     Jeanne\n",
       "2        Eve\n",
       "3      Maceo\n",
       "4     Willow\n",
       "5    Vincent\n",
       "Name: first, dtype: object"
      ]
     },
     "execution_count": 34,
     "metadata": {},
     "output_type": "execute_result"
    }
   ],
   "source": [
    "df2"
   ]
  },
  {
   "cell_type": "markdown",
   "metadata": {},
   "source": []
  },
  {
   "cell_type": "markdown",
   "metadata": {},
   "source": []
  },
  {
   "cell_type": "markdown",
   "metadata": {},
   "source": []
  },
  {
   "cell_type": "markdown",
   "metadata": {},
   "source": []
  },
  {
   "cell_type": "markdown",
   "metadata": {},
   "source": []
  },
  {
   "cell_type": "markdown",
   "metadata": {},
   "source": [
    "# Write the DataFrame to a CSV file"
   ]
  },
  {
   "cell_type": "code",
   "execution_count": 35,
   "metadata": {},
   "outputs": [],
   "source": [
    "df.to_csv('output.csv', sep=',', encoding='utf-8')"
   ]
  },
  {
   "cell_type": "markdown",
   "metadata": {},
   "source": [
    "# Write the DataFrame to 'Excel' file"
   ]
  },
  {
   "cell_type": "code",
   "execution_count": 36,
   "metadata": {},
   "outputs": [
    {
     "name": "stdout",
     "output_type": "stream",
     "text": [
      "Requirement already satisfied: openpyxl in /Users/vdagoury/.pyenv/versions/3.8.2/envs/default/lib/python3.8/site-packages (3.0.3)\n",
      "Requirement already satisfied: jdcal in /Users/vdagoury/.pyenv/versions/3.8.2/envs/default/lib/python3.8/site-packages (from openpyxl) (1.4.1)\n",
      "Requirement already satisfied: et_xmlfile in /Users/vdagoury/.pyenv/versions/3.8.2/envs/default/lib/python3.8/site-packages (from openpyxl) (1.0.1)\n",
      "Note: you may need to restart the kernel to use updated packages.\n"
     ]
    }
   ],
   "source": [
    "%pip install openpyxl"
   ]
  },
  {
   "cell_type": "code",
   "execution_count": 45,
   "metadata": {},
   "outputs": [],
   "source": [
    "import openpyxl\n",
    "df.to_excel('output.xlsx', sheet_name='data')"
   ]
  },
  {
   "cell_type": "code",
   "execution_count": 46,
   "metadata": {},
   "outputs": [
    {
     "data": {
      "text/html": [
       "<div>\n",
       "<style scoped>\n",
       "    .dataframe tbody tr th:only-of-type {\n",
       "        vertical-align: middle;\n",
       "    }\n",
       "\n",
       "    .dataframe tbody tr th {\n",
       "        vertical-align: top;\n",
       "    }\n",
       "\n",
       "    .dataframe thead th {\n",
       "        text-align: right;\n",
       "    }\n",
       "</style>\n",
       "<table border=\"1\" class=\"dataframe\">\n",
       "  <thead>\n",
       "    <tr style=\"text-align: right;\">\n",
       "      <th></th>\n",
       "      <th>first</th>\n",
       "      <th>last</th>\n",
       "      <th>email</th>\n",
       "      <th>birthYear</th>\n",
       "    </tr>\n",
       "  </thead>\n",
       "  <tbody>\n",
       "    <tr>\n",
       "      <th>0</th>\n",
       "      <td>Karine</td>\n",
       "      <td>Dagoury</td>\n",
       "      <td>karine.dagoury@gmail.com</td>\n",
       "      <td>1973</td>\n",
       "    </tr>\n",
       "    <tr>\n",
       "      <th>1</th>\n",
       "      <td>Jeanne</td>\n",
       "      <td>Dagoury</td>\n",
       "      <td>jeannedgy@gmail.com</td>\n",
       "      <td>2002</td>\n",
       "    </tr>\n",
       "    <tr>\n",
       "      <th>2</th>\n",
       "      <td>Eve</td>\n",
       "      <td>Dagoury</td>\n",
       "      <td>eveceleste@gmail.com</td>\n",
       "      <td>2005</td>\n",
       "    </tr>\n",
       "    <tr>\n",
       "      <th>3</th>\n",
       "      <td>Maceo</td>\n",
       "      <td>Dagoury</td>\n",
       "      <td></td>\n",
       "      <td>2016</td>\n",
       "    </tr>\n",
       "    <tr>\n",
       "      <th>4</th>\n",
       "      <td>Willow</td>\n",
       "      <td>Dagoury</td>\n",
       "      <td></td>\n",
       "      <td>2011</td>\n",
       "    </tr>\n",
       "  </tbody>\n",
       "</table>\n",
       "</div>"
      ],
      "text/plain": [
       "    first     last                     email  birthYear\n",
       "0  Karine  Dagoury  karine.dagoury@gmail.com       1973\n",
       "1  Jeanne  Dagoury       jeannedgy@gmail.com       2002\n",
       "2     Eve  Dagoury      eveceleste@gmail.com       2005\n",
       "3   Maceo  Dagoury                                 2016\n",
       "4  Willow  Dagoury                                 2011"
      ]
     },
     "execution_count": 46,
     "metadata": {},
     "output_type": "execute_result"
    }
   ],
   "source": [
    "df.head()"
   ]
  },
  {
   "cell_type": "code",
   "execution_count": null,
   "metadata": {},
   "outputs": [],
   "source": []
  }
 ],
 "metadata": {
  "kernelspec": {
   "display_name": "Python 3.7.7 64-bit ('base': conda)",
   "language": "python",
   "name": "python37764bitbaseconda2be9193cf42c4266a2238ff734ff875e"
  },
  "language_info": {
   "codemirror_mode": {
    "name": "ipython",
    "version": 3
   },
   "file_extension": ".py",
   "mimetype": "text/x-python",
   "name": "python",
   "nbconvert_exporter": "python",
   "pygments_lexer": "ipython3",
   "version": "3.7.7"
  }
 },
 "nbformat": 4,
 "nbformat_minor": 4
}
