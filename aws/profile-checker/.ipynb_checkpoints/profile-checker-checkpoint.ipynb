{
 "cells": [
  {
   "cell_type": "code",
   "execution_count": 16,
   "metadata": {},
   "outputs": [
    {
     "name": "stdout",
     "output_type": "stream",
     "text": [
      "Collecting boto3\n",
      "  Using cached boto3-1.12.39-py2.py3-none-any.whl (128 kB)\n",
      "Collecting botocore<1.16.0,>=1.15.39\n",
      "  Using cached botocore-1.15.39-py2.py3-none-any.whl (6.1 MB)\n",
      "Collecting jmespath<1.0.0,>=0.7.1\n",
      "  Using cached jmespath-0.9.5-py2.py3-none-any.whl (24 kB)\n",
      "Collecting s3transfer<0.4.0,>=0.3.0\n",
      "  Using cached s3transfer-0.3.3-py2.py3-none-any.whl (69 kB)\n",
      "Requirement already satisfied: urllib3<1.26,>=1.20; python_version != \"3.4\" in /Users/vdagoury/opt/anaconda3/lib/python3.7/site-packages (from botocore<1.16.0,>=1.15.39->boto3) (1.25.8)\n",
      "Collecting docutils<0.16,>=0.10\n",
      "  Using cached docutils-0.15.2-py3-none-any.whl (547 kB)\n",
      "Requirement already satisfied: python-dateutil<3.0.0,>=2.1 in /Users/vdagoury/opt/anaconda3/lib/python3.7/site-packages (from botocore<1.16.0,>=1.15.39->boto3) (2.8.1)\n",
      "Requirement already satisfied: six>=1.5 in /Users/vdagoury/opt/anaconda3/lib/python3.7/site-packages (from python-dateutil<3.0.0,>=2.1->botocore<1.16.0,>=1.15.39->boto3) (1.14.0)\n",
      "Installing collected packages: docutils, jmespath, botocore, s3transfer, boto3\n",
      "  Attempting uninstall: docutils\n",
      "    Found existing installation: docutils 0.16\n",
      "    Uninstalling docutils-0.16:\n",
      "      Successfully uninstalled docutils-0.16\n",
      "Successfully installed boto3-1.12.39 botocore-1.15.39 docutils-0.15.2 jmespath-0.9.5 s3transfer-0.3.3\n"
     ]
    }
   ],
   "source": [
    "# Install a pip package in the current Jupyter kernel\n",
    "import sys\n",
    "!{sys.executable} -m pip install boto3"
   ]
  },
  {
   "cell_type": "code",
   "execution_count": 18,
   "metadata": {},
   "outputs": [
    {
     "name": "stdout",
     "output_type": "stream",
     "text": [
      "yoldee:OK\n",
      "amplify:OK\n",
      "vincent:OK\n",
      "default:OK\n",
      "ea-prod:OK\n",
      "bso2s3prod:OK\n",
      "ea-test:OK\n"
     ]
    }
   ],
   "source": [
    "from pathlib import Path\n",
    "import boto3\n",
    "from botocore.exceptions import ClientError\n",
    "import re\n",
    "\n",
    "with open(str(Path.home()) + \"/.aws/credentials\", \"r\") as file:\n",
    "    for line in file.readlines():\n",
    "        try:\n",
    "            profile = re.search(r\"^\\[(.+)\\]\", line).group(1)\n",
    "            try:\n",
    "                s3 = boto3.session.Session(\n",
    "                    profile_name=profile, region_name=\"eu-west-1\"\n",
    "                ).resource(\"s3\")\n",
    "                response = s3.buckets.all()\n",
    "                print(f\"{profile}:OK\")\n",
    "            except ClientError as e:\n",
    "                print(f\"{profile}:KO\")\n",
    "        except:\n",
    "            pass"
   ]
  },
  {
   "cell_type": "code",
   "execution_count": null,
   "metadata": {},
   "outputs": [],
   "source": []
  }
 ],
 "metadata": {
  "kernelspec": {
   "display_name": "Python 3",
   "language": "python",
   "name": "python3"
  },
  "language_info": {
   "codemirror_mode": {
    "name": "ipython",
    "version": 3
   },
   "file_extension": ".py",
   "mimetype": "text/x-python",
   "name": "python",
   "nbconvert_exporter": "python",
   "pygments_lexer": "ipython3",
   "version": "3.7.6"
  }
 },
 "nbformat": 4,
 "nbformat_minor": 4
}
